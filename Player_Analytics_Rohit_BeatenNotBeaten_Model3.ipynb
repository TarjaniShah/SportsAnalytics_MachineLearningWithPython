{
 "cells": [
  {
   "cell_type": "markdown",
   "metadata": {
    "collapsed": true
   },
   "source": [
    "# Machine Learning Models"
   ]
  },
  {
   "cell_type": "code",
   "execution_count": 2,
   "metadata": {
    "collapsed": true
   },
   "outputs": [],
   "source": [
    "#Importing necessary libraries\n",
    "import pandas as pd\n",
    "import numpy as np\n",
    "import matplotlib.pyplot as plt\n",
    "import seaborn as sns\n",
    "\n",
    "%matplotlib inline\n",
    "\n",
    "sns.set(style=\"white\")\n",
    "sns.set(style=\"whitegrid\", color_codes=True)"
   ]
  },
  {
   "cell_type": "code",
   "execution_count": 3,
   "metadata": {
    "collapsed": true
   },
   "outputs": [],
   "source": [
    "# Read the csv file and save it as a Pandas DataFrame\n",
    "df_Rohit = pd.read_csv(\"Rohit_Final.csv\")"
   ]
  },
  {
   "cell_type": "markdown",
   "metadata": {},
   "source": [
    "** Dispay the first 5 rows, data type within all columns **"
   ]
  },
  {
   "cell_type": "code",
   "execution_count": 4,
   "metadata": {},
   "outputs": [
    {
     "data": {
      "text/html": [
       "<div>\n",
       "<style>\n",
       "    .dataframe thead tr:only-child th {\n",
       "        text-align: right;\n",
       "    }\n",
       "\n",
       "    .dataframe thead th {\n",
       "        text-align: left;\n",
       "    }\n",
       "\n",
       "    .dataframe tbody tr th {\n",
       "        vertical-align: top;\n",
       "    }\n",
       "</style>\n",
       "<table border=\"1\" class=\"dataframe\">\n",
       "  <thead>\n",
       "    <tr style=\"text-align: right;\">\n",
       "      <th></th>\n",
       "      <th>Unnamed: 0</th>\n",
       "      <th>Commentary</th>\n",
       "      <th>Runs</th>\n",
       "      <th>Delivery_Length</th>\n",
       "      <th>Delivery_Line</th>\n",
       "      <th>Shot_Type</th>\n",
       "      <th>Run/NoRun</th>\n",
       "      <th>Bowler_Type</th>\n",
       "      <th>Bowler_Name</th>\n",
       "      <th>Avg_Ball_Speed</th>\n",
       "      <th>...</th>\n",
       "      <th>Beaten/NotBeaten</th>\n",
       "      <th>Home_Away</th>\n",
       "      <th>Good_Bad_Shot</th>\n",
       "      <th>Opponent</th>\n",
       "      <th>Stadium</th>\n",
       "      <th>Shot_Zone</th>\n",
       "      <th>Delivery_Number</th>\n",
       "      <th>Toss</th>\n",
       "      <th>TossDecision</th>\n",
       "      <th>D/N</th>\n",
       "    </tr>\n",
       "  </thead>\n",
       "  <tbody>\n",
       "    <tr>\n",
       "      <th>0</th>\n",
       "      <td>2</td>\n",
       "      <td>Morne Morkel to Rohit, no run, stays in the cr...</td>\n",
       "      <td>0</td>\n",
       "      <td>Short</td>\n",
       "      <td>outside_stumps</td>\n",
       "      <td>Defensive_shot</td>\n",
       "      <td>norun</td>\n",
       "      <td>right arm fast</td>\n",
       "      <td>Morne Morkel</td>\n",
       "      <td>139.2</td>\n",
       "      <td>...</td>\n",
       "      <td>not_beaten</td>\n",
       "      <td>away</td>\n",
       "      <td>bad</td>\n",
       "      <td>South Africa</td>\n",
       "      <td>Kingsmead</td>\n",
       "      <td>Unknown</td>\n",
       "      <td>29</td>\n",
       "      <td>0</td>\n",
       "      <td>Batting</td>\n",
       "      <td>DN</td>\n",
       "    </tr>\n",
       "    <tr>\n",
       "      <th>1</th>\n",
       "      <td>3</td>\n",
       "      <td>Morne Morkel to Rohit, 2 runs, &lt;b&gt;almost dragg...</td>\n",
       "      <td>2</td>\n",
       "      <td>Short</td>\n",
       "      <td>wicket_to_wicket</td>\n",
       "      <td>Edge</td>\n",
       "      <td>run</td>\n",
       "      <td>right arm fast</td>\n",
       "      <td>Morne Morkel</td>\n",
       "      <td>139.2</td>\n",
       "      <td>...</td>\n",
       "      <td>beaten</td>\n",
       "      <td>away</td>\n",
       "      <td>bad</td>\n",
       "      <td>South Africa</td>\n",
       "      <td>Kingsmead</td>\n",
       "      <td>FineLeg</td>\n",
       "      <td>28</td>\n",
       "      <td>0</td>\n",
       "      <td>Batting</td>\n",
       "      <td>DN</td>\n",
       "    </tr>\n",
       "    <tr>\n",
       "      <th>2</th>\n",
       "      <td>4</td>\n",
       "      <td>Rabada to Rohit, 1 run, good comeback from Rab...</td>\n",
       "      <td>1</td>\n",
       "      <td>GoodLength</td>\n",
       "      <td>outside_stumps</td>\n",
       "      <td>Late_Cut</td>\n",
       "      <td>run</td>\n",
       "      <td>right arm fast</td>\n",
       "      <td>Rabada</td>\n",
       "      <td>138.3</td>\n",
       "      <td>...</td>\n",
       "      <td>beaten</td>\n",
       "      <td>away</td>\n",
       "      <td>good</td>\n",
       "      <td>South Africa</td>\n",
       "      <td>Kingsmead</td>\n",
       "      <td>Point</td>\n",
       "      <td>27</td>\n",
       "      <td>0</td>\n",
       "      <td>Batting</td>\n",
       "      <td>DN</td>\n",
       "    </tr>\n",
       "    <tr>\n",
       "      <th>3</th>\n",
       "      <td>5</td>\n",
       "      <td>Rabada to Rohit, no run, Rohit must be cursing...</td>\n",
       "      <td>0</td>\n",
       "      <td>Full_toss</td>\n",
       "      <td>outside_stumps</td>\n",
       "      <td>Pull_hook</td>\n",
       "      <td>norun</td>\n",
       "      <td>right arm fast</td>\n",
       "      <td>Rabada</td>\n",
       "      <td>138.3</td>\n",
       "      <td>...</td>\n",
       "      <td>not_beaten</td>\n",
       "      <td>away</td>\n",
       "      <td>bad</td>\n",
       "      <td>South Africa</td>\n",
       "      <td>Kingsmead</td>\n",
       "      <td>Midwicket</td>\n",
       "      <td>26</td>\n",
       "      <td>0</td>\n",
       "      <td>Batting</td>\n",
       "      <td>DN</td>\n",
       "    </tr>\n",
       "    <tr>\n",
       "      <th>4</th>\n",
       "      <td>6</td>\n",
       "      <td>Rabada to Rohit, no run, pacy back of a length...</td>\n",
       "      <td>0</td>\n",
       "      <td>Short</td>\n",
       "      <td>wicket_to_wicket</td>\n",
       "      <td>Defensive_shot</td>\n",
       "      <td>norun</td>\n",
       "      <td>right arm fast</td>\n",
       "      <td>Rabada</td>\n",
       "      <td>138.3</td>\n",
       "      <td>...</td>\n",
       "      <td>not_beaten</td>\n",
       "      <td>away</td>\n",
       "      <td>bad</td>\n",
       "      <td>South Africa</td>\n",
       "      <td>Kingsmead</td>\n",
       "      <td>Unknown</td>\n",
       "      <td>25</td>\n",
       "      <td>0</td>\n",
       "      <td>Batting</td>\n",
       "      <td>DN</td>\n",
       "    </tr>\n",
       "  </tbody>\n",
       "</table>\n",
       "<p>5 rows × 23 columns</p>\n",
       "</div>"
      ],
      "text/plain": [
       "   Unnamed: 0                                         Commentary  Runs  \\\n",
       "0           2  Morne Morkel to Rohit, no run, stays in the cr...     0   \n",
       "1           3  Morne Morkel to Rohit, 2 runs, <b>almost dragg...     2   \n",
       "2           4  Rabada to Rohit, 1 run, good comeback from Rab...     1   \n",
       "3           5  Rabada to Rohit, no run, Rohit must be cursing...     0   \n",
       "4           6  Rabada to Rohit, no run, pacy back of a length...     0   \n",
       "\n",
       "  Delivery_Length     Delivery_Line       Shot_Type Run/NoRun     Bowler_Type  \\\n",
       "0           Short    outside_stumps  Defensive_shot     norun  right arm fast   \n",
       "1           Short  wicket_to_wicket            Edge       run  right arm fast   \n",
       "2      GoodLength    outside_stumps        Late_Cut       run  right arm fast   \n",
       "3       Full_toss    outside_stumps       Pull_hook     norun  right arm fast   \n",
       "4           Short  wicket_to_wicket  Defensive_shot     norun  right arm fast   \n",
       "\n",
       "    Bowler_Name  Avg_Ball_Speed ...   Beaten/NotBeaten  Home_Away  \\\n",
       "0  Morne Morkel           139.2 ...         not_beaten       away   \n",
       "1  Morne Morkel           139.2 ...             beaten       away   \n",
       "2        Rabada           138.3 ...             beaten       away   \n",
       "3        Rabada           138.3 ...         not_beaten       away   \n",
       "4        Rabada           138.3 ...         not_beaten       away   \n",
       "\n",
       "  Good_Bad_Shot      Opponent    Stadium  Shot_Zone Delivery_Number Toss  \\\n",
       "0           bad  South Africa  Kingsmead    Unknown              29    0   \n",
       "1           bad  South Africa  Kingsmead    FineLeg              28    0   \n",
       "2          good  South Africa  Kingsmead      Point              27    0   \n",
       "3           bad  South Africa  Kingsmead  Midwicket              26    0   \n",
       "4           bad  South Africa  Kingsmead    Unknown              25    0   \n",
       "\n",
       "  TossDecision  D/N  \n",
       "0      Batting   DN  \n",
       "1      Batting   DN  \n",
       "2      Batting   DN  \n",
       "3      Batting   DN  \n",
       "4      Batting   DN  \n",
       "\n",
       "[5 rows x 23 columns]"
      ]
     },
     "execution_count": 4,
     "metadata": {},
     "output_type": "execute_result"
    }
   ],
   "source": [
    "df_Rohit.head()"
   ]
  },
  {
   "cell_type": "code",
   "execution_count": 5,
   "metadata": {},
   "outputs": [
    {
     "name": "stdout",
     "output_type": "stream",
     "text": [
      "<class 'pandas.core.frame.DataFrame'>\n",
      "RangeIndex: 2192 entries, 0 to 2191\n",
      "Data columns (total 23 columns):\n",
      "Unnamed: 0          2192 non-null int64\n",
      "Commentary          2192 non-null object\n",
      "Runs                2192 non-null int64\n",
      "Delivery_Length     2192 non-null object\n",
      "Delivery_Line       2192 non-null object\n",
      "Shot_Type           2192 non-null object\n",
      "Run/NoRun           2192 non-null object\n",
      "Bowler_Type         2192 non-null object\n",
      "Bowler_Name         2192 non-null object\n",
      "Avg_Ball_Speed      2192 non-null float64\n",
      "MatchID             2192 non-null int64\n",
      "Dismissal           2192 non-null int64\n",
      "Dismissal_Type      35 non-null object\n",
      "Beaten/NotBeaten    2192 non-null object\n",
      "Home_Away           2192 non-null object\n",
      "Good_Bad_Shot       2192 non-null object\n",
      "Opponent            2192 non-null object\n",
      "Stadium             2192 non-null object\n",
      "Shot_Zone           2192 non-null object\n",
      "Delivery_Number     2192 non-null int64\n",
      "Toss                2192 non-null int64\n",
      "TossDecision        2192 non-null object\n",
      "D/N                 2192 non-null object\n",
      "dtypes: float64(1), int64(6), object(16)\n",
      "memory usage: 394.0+ KB\n"
     ]
    }
   ],
   "source": [
    "df_Rohit.info()"
   ]
  },
  {
   "cell_type": "markdown",
   "metadata": {},
   "source": [
    "## Handling Categorical Variables - Get Dummies"
   ]
  },
  {
   "cell_type": "markdown",
   "metadata": {},
   "source": [
    "Most Machine Learning models don't work well with numerical attributes. By encoding these variables to numerical values, we attempt at making our ML models run better."
   ]
  },
  {
   "cell_type": "code",
   "execution_count": 6,
   "metadata": {},
   "outputs": [
    {
     "name": "stdout",
     "output_type": "stream",
     "text": [
      "<class 'pandas.core.frame.DataFrame'>\n",
      "RangeIndex: 2192 entries, 0 to 2191\n",
      "Data columns (total 47 columns):\n",
      "Unnamed: 0                           2192 non-null int64\n",
      "Commentary                           2192 non-null object\n",
      "Runs                                 2192 non-null int64\n",
      "Run/NoRun                            2192 non-null object\n",
      "Bowler_Name                          2192 non-null object\n",
      "Avg_Ball_Speed                       2192 non-null float64\n",
      "MatchID                              2192 non-null int64\n",
      "Dismissal                            2192 non-null int64\n",
      "Dismissal_Type                       35 non-null object\n",
      "Beaten/NotBeaten                     2192 non-null object\n",
      "Home_Away                            2192 non-null object\n",
      "Good_Bad_Shot                        2192 non-null object\n",
      "Opponent                             2192 non-null object\n",
      "Stadium                              2192 non-null object\n",
      "Shot_Zone                            2192 non-null object\n",
      "Delivery_Number                      2192 non-null int64\n",
      "Toss                                 2192 non-null int64\n",
      "TossDecision                         2192 non-null object\n",
      "D/N                                  2192 non-null object\n",
      "Bowler_Type_left arm chinaman        2192 non-null uint8\n",
      "Bowler_Type_left arm fast medium     2192 non-null uint8\n",
      "Bowler_Type_left arm medium          2192 non-null uint8\n",
      "Bowler_Type_left arm orthodox        2192 non-null uint8\n",
      "Bowler_Type_right arm fast           2192 non-null uint8\n",
      "Bowler_Type_right arm fast medium    2192 non-null uint8\n",
      "Bowler_Type_right arm leg break      2192 non-null uint8\n",
      "Bowler_Type_right arm medium         2192 non-null uint8\n",
      "Bowler_Type_right arm off break      2192 non-null uint8\n",
      "Delivery_Length_Full                 2192 non-null uint8\n",
      "Delivery_Length_Full_toss            2192 non-null uint8\n",
      "Delivery_Length_GoodLength           2192 non-null uint8\n",
      "Delivery_Length_Short                2192 non-null uint8\n",
      "Delivery_Length_Unknown              2192 non-null uint8\n",
      "Delivery_Line_Unknown                2192 non-null uint8\n",
      "Delivery_Line_outside_stumps         2192 non-null uint8\n",
      "Delivery_Line_wicket_to_wicket       2192 non-null uint8\n",
      "Shot_Type_Cut                        2192 non-null uint8\n",
      "Shot_Type_Defensive_shot             2192 non-null uint8\n",
      "Shot_Type_Drive                      2192 non-null uint8\n",
      "Shot_Type_Edge                       2192 non-null uint8\n",
      "Shot_Type_Flick                      2192 non-null uint8\n",
      "Shot_Type_Glance                     2192 non-null uint8\n",
      "Shot_Type_Late_Cut                   2192 non-null uint8\n",
      "Shot_Type_No_shot                    2192 non-null uint8\n",
      "Shot_Type_Pull_hook                  2192 non-null uint8\n",
      "Shot_Type_Sweep                      2192 non-null uint8\n",
      "Shot_Type_Unknown                    2192 non-null uint8\n",
      "dtypes: float64(1), int64(6), object(12), uint8(28)\n",
      "memory usage: 385.4+ KB\n"
     ]
    }
   ],
   "source": [
    "categorical_columns = ['Bowler_Type','Delivery_Length','Delivery_Line','Shot_Type',]\n",
    "tempdf = pd.get_dummies(df_Rohit, columns=categorical_columns)\n",
    "tempdf.info()"
   ]
  },
  {
   "cell_type": "code",
   "execution_count": 7,
   "metadata": {},
   "outputs": [
    {
     "data": {
      "text/html": [
       "<div>\n",
       "<style>\n",
       "    .dataframe thead tr:only-child th {\n",
       "        text-align: right;\n",
       "    }\n",
       "\n",
       "    .dataframe thead th {\n",
       "        text-align: left;\n",
       "    }\n",
       "\n",
       "    .dataframe tbody tr th {\n",
       "        vertical-align: top;\n",
       "    }\n",
       "</style>\n",
       "<table border=\"1\" class=\"dataframe\">\n",
       "  <thead>\n",
       "    <tr style=\"text-align: right;\">\n",
       "      <th></th>\n",
       "      <th>Delivery_Length_Full</th>\n",
       "      <th>Delivery_Length_Full_toss</th>\n",
       "      <th>Delivery_Length_GoodLength</th>\n",
       "      <th>Delivery_Length_Short</th>\n",
       "      <th>Delivery_Length_Unknown</th>\n",
       "      <th>Delivery_Line_outside_stumps</th>\n",
       "      <th>Delivery_Line_Unknown</th>\n",
       "      <th>Delivery_Line_wicket_to_wicket</th>\n",
       "      <th>Shot_Type_Cut</th>\n",
       "      <th>Shot_Type_Defensive_shot</th>\n",
       "      <th>...</th>\n",
       "      <th>Shot_Type_Unknown</th>\n",
       "      <th>Bowler_Type_left arm chinaman</th>\n",
       "      <th>Bowler_Type_left arm fast medium</th>\n",
       "      <th>Bowler_Type_left arm medium</th>\n",
       "      <th>Bowler_Type_left arm orthodox</th>\n",
       "      <th>Bowler_Type_right arm fast</th>\n",
       "      <th>Bowler_Type_right arm fast medium</th>\n",
       "      <th>Bowler_Type_right arm leg break</th>\n",
       "      <th>Bowler_Type_right arm medium</th>\n",
       "      <th>Bowler_Type_right arm off break</th>\n",
       "    </tr>\n",
       "  </thead>\n",
       "  <tbody>\n",
       "    <tr>\n",
       "      <th>0</th>\n",
       "      <td>0</td>\n",
       "      <td>0</td>\n",
       "      <td>0</td>\n",
       "      <td>1</td>\n",
       "      <td>0</td>\n",
       "      <td>1</td>\n",
       "      <td>0</td>\n",
       "      <td>0</td>\n",
       "      <td>0</td>\n",
       "      <td>1</td>\n",
       "      <td>...</td>\n",
       "      <td>0</td>\n",
       "      <td>0</td>\n",
       "      <td>0</td>\n",
       "      <td>0</td>\n",
       "      <td>0</td>\n",
       "      <td>1</td>\n",
       "      <td>0</td>\n",
       "      <td>0</td>\n",
       "      <td>0</td>\n",
       "      <td>0</td>\n",
       "    </tr>\n",
       "    <tr>\n",
       "      <th>1</th>\n",
       "      <td>0</td>\n",
       "      <td>0</td>\n",
       "      <td>0</td>\n",
       "      <td>1</td>\n",
       "      <td>0</td>\n",
       "      <td>0</td>\n",
       "      <td>0</td>\n",
       "      <td>1</td>\n",
       "      <td>0</td>\n",
       "      <td>0</td>\n",
       "      <td>...</td>\n",
       "      <td>0</td>\n",
       "      <td>0</td>\n",
       "      <td>0</td>\n",
       "      <td>0</td>\n",
       "      <td>0</td>\n",
       "      <td>1</td>\n",
       "      <td>0</td>\n",
       "      <td>0</td>\n",
       "      <td>0</td>\n",
       "      <td>0</td>\n",
       "    </tr>\n",
       "    <tr>\n",
       "      <th>2</th>\n",
       "      <td>0</td>\n",
       "      <td>0</td>\n",
       "      <td>1</td>\n",
       "      <td>0</td>\n",
       "      <td>0</td>\n",
       "      <td>1</td>\n",
       "      <td>0</td>\n",
       "      <td>0</td>\n",
       "      <td>0</td>\n",
       "      <td>0</td>\n",
       "      <td>...</td>\n",
       "      <td>0</td>\n",
       "      <td>0</td>\n",
       "      <td>0</td>\n",
       "      <td>0</td>\n",
       "      <td>0</td>\n",
       "      <td>1</td>\n",
       "      <td>0</td>\n",
       "      <td>0</td>\n",
       "      <td>0</td>\n",
       "      <td>0</td>\n",
       "    </tr>\n",
       "    <tr>\n",
       "      <th>3</th>\n",
       "      <td>0</td>\n",
       "      <td>1</td>\n",
       "      <td>0</td>\n",
       "      <td>0</td>\n",
       "      <td>0</td>\n",
       "      <td>1</td>\n",
       "      <td>0</td>\n",
       "      <td>0</td>\n",
       "      <td>0</td>\n",
       "      <td>0</td>\n",
       "      <td>...</td>\n",
       "      <td>0</td>\n",
       "      <td>0</td>\n",
       "      <td>0</td>\n",
       "      <td>0</td>\n",
       "      <td>0</td>\n",
       "      <td>1</td>\n",
       "      <td>0</td>\n",
       "      <td>0</td>\n",
       "      <td>0</td>\n",
       "      <td>0</td>\n",
       "    </tr>\n",
       "    <tr>\n",
       "      <th>4</th>\n",
       "      <td>0</td>\n",
       "      <td>0</td>\n",
       "      <td>0</td>\n",
       "      <td>1</td>\n",
       "      <td>0</td>\n",
       "      <td>0</td>\n",
       "      <td>0</td>\n",
       "      <td>1</td>\n",
       "      <td>0</td>\n",
       "      <td>1</td>\n",
       "      <td>...</td>\n",
       "      <td>0</td>\n",
       "      <td>0</td>\n",
       "      <td>0</td>\n",
       "      <td>0</td>\n",
       "      <td>0</td>\n",
       "      <td>1</td>\n",
       "      <td>0</td>\n",
       "      <td>0</td>\n",
       "      <td>0</td>\n",
       "      <td>0</td>\n",
       "    </tr>\n",
       "  </tbody>\n",
       "</table>\n",
       "<p>5 rows × 28 columns</p>\n",
       "</div>"
      ],
      "text/plain": [
       "   Delivery_Length_Full  Delivery_Length_Full_toss  \\\n",
       "0                     0                          0   \n",
       "1                     0                          0   \n",
       "2                     0                          0   \n",
       "3                     0                          1   \n",
       "4                     0                          0   \n",
       "\n",
       "   Delivery_Length_GoodLength  Delivery_Length_Short  Delivery_Length_Unknown  \\\n",
       "0                           0                      1                        0   \n",
       "1                           0                      1                        0   \n",
       "2                           1                      0                        0   \n",
       "3                           0                      0                        0   \n",
       "4                           0                      1                        0   \n",
       "\n",
       "   Delivery_Line_outside_stumps  Delivery_Line_Unknown  \\\n",
       "0                             1                      0   \n",
       "1                             0                      0   \n",
       "2                             1                      0   \n",
       "3                             1                      0   \n",
       "4                             0                      0   \n",
       "\n",
       "   Delivery_Line_wicket_to_wicket  Shot_Type_Cut  Shot_Type_Defensive_shot  \\\n",
       "0                               0              0                         1   \n",
       "1                               1              0                         0   \n",
       "2                               0              0                         0   \n",
       "3                               0              0                         0   \n",
       "4                               1              0                         1   \n",
       "\n",
       "                ...                 Shot_Type_Unknown  \\\n",
       "0               ...                                 0   \n",
       "1               ...                                 0   \n",
       "2               ...                                 0   \n",
       "3               ...                                 0   \n",
       "4               ...                                 0   \n",
       "\n",
       "   Bowler_Type_left arm chinaman  Bowler_Type_left arm fast medium  \\\n",
       "0                              0                                 0   \n",
       "1                              0                                 0   \n",
       "2                              0                                 0   \n",
       "3                              0                                 0   \n",
       "4                              0                                 0   \n",
       "\n",
       "   Bowler_Type_left arm medium  Bowler_Type_left arm orthodox  \\\n",
       "0                            0                              0   \n",
       "1                            0                              0   \n",
       "2                            0                              0   \n",
       "3                            0                              0   \n",
       "4                            0                              0   \n",
       "\n",
       "   Bowler_Type_right arm fast  Bowler_Type_right arm fast medium  \\\n",
       "0                           1                                  0   \n",
       "1                           1                                  0   \n",
       "2                           1                                  0   \n",
       "3                           1                                  0   \n",
       "4                           1                                  0   \n",
       "\n",
       "   Bowler_Type_right arm leg break  Bowler_Type_right arm medium  \\\n",
       "0                                0                             0   \n",
       "1                                0                             0   \n",
       "2                                0                             0   \n",
       "3                                0                             0   \n",
       "4                                0                             0   \n",
       "\n",
       "   Bowler_Type_right arm off break  \n",
       "0                                0  \n",
       "1                                0  \n",
       "2                                0  \n",
       "3                                0  \n",
       "4                                0  \n",
       "\n",
       "[5 rows x 28 columns]"
      ]
     },
     "execution_count": 7,
     "metadata": {},
     "output_type": "execute_result"
    }
   ],
   "source": [
    "# We create a DataFrame containing all features.\n",
    "x = tempdf[['Delivery_Length_Full','Delivery_Length_Full_toss','Delivery_Length_GoodLength','Delivery_Length_Short','Delivery_Length_Unknown','Delivery_Line_outside_stumps','Delivery_Line_Unknown','Delivery_Line_wicket_to_wicket','Shot_Type_Cut','Shot_Type_Defensive_shot','Shot_Type_Drive','Shot_Type_Edge','Shot_Type_Flick','Shot_Type_Glance','Shot_Type_Late_Cut','Shot_Type_No_shot','Shot_Type_Pull_hook','Shot_Type_Sweep','Shot_Type_Unknown','Bowler_Type_left arm chinaman','Bowler_Type_left arm fast medium','Bowler_Type_left arm medium','Bowler_Type_left arm orthodox','Bowler_Type_right arm fast','Bowler_Type_right arm fast medium','Bowler_Type_right arm leg break','Bowler_Type_right arm medium','Bowler_Type_right arm off break']]\n",
    "x.head()"
   ]
  },
  {
   "cell_type": "code",
   "execution_count": 8,
   "metadata": {},
   "outputs": [
    {
     "data": {
      "text/plain": [
       "0    not_beaten\n",
       "1        beaten\n",
       "2        beaten\n",
       "3    not_beaten\n",
       "4    not_beaten\n",
       "Name: Beaten/NotBeaten, dtype: object"
      ]
     },
     "execution_count": 8,
     "metadata": {},
     "output_type": "execute_result"
    }
   ],
   "source": [
    "# Run/No run is our target variable\n",
    "y = df_Rohit['Beaten/NotBeaten']\n",
    "y.head()"
   ]
  },
  {
   "cell_type": "markdown",
   "metadata": {},
   "source": [
    "## Splitting the Data"
   ]
  },
  {
   "cell_type": "markdown",
   "metadata": {},
   "source": [
    "** We divide the data into target and label variables and stratify split these into a test and train set **"
   ]
  },
  {
   "cell_type": "code",
   "execution_count": 9,
   "metadata": {
    "collapsed": true
   },
   "outputs": [],
   "source": [
    "from sklearn.model_selection import train_test_split\n",
    "x_train,x_test,y_train,y_test = train_test_split(x,y,test_size=0.3,random_state=42,stratify=y)"
   ]
  },
  {
   "cell_type": "code",
   "execution_count": 10,
   "metadata": {},
   "outputs": [
    {
     "data": {
      "text/html": [
       "<div>\n",
       "<style>\n",
       "    .dataframe thead tr:only-child th {\n",
       "        text-align: right;\n",
       "    }\n",
       "\n",
       "    .dataframe thead th {\n",
       "        text-align: left;\n",
       "    }\n",
       "\n",
       "    .dataframe tbody tr th {\n",
       "        vertical-align: top;\n",
       "    }\n",
       "</style>\n",
       "<table border=\"1\" class=\"dataframe\">\n",
       "  <thead>\n",
       "    <tr style=\"text-align: right;\">\n",
       "      <th></th>\n",
       "      <th>Delivery_Length_Full</th>\n",
       "      <th>Delivery_Length_Full_toss</th>\n",
       "      <th>Delivery_Length_GoodLength</th>\n",
       "      <th>Delivery_Length_Short</th>\n",
       "      <th>Delivery_Length_Unknown</th>\n",
       "      <th>Delivery_Line_outside_stumps</th>\n",
       "      <th>Delivery_Line_Unknown</th>\n",
       "      <th>Delivery_Line_wicket_to_wicket</th>\n",
       "      <th>Shot_Type_Cut</th>\n",
       "      <th>Shot_Type_Defensive_shot</th>\n",
       "      <th>...</th>\n",
       "      <th>Shot_Type_Unknown</th>\n",
       "      <th>Bowler_Type_left arm chinaman</th>\n",
       "      <th>Bowler_Type_left arm fast medium</th>\n",
       "      <th>Bowler_Type_left arm medium</th>\n",
       "      <th>Bowler_Type_left arm orthodox</th>\n",
       "      <th>Bowler_Type_right arm fast</th>\n",
       "      <th>Bowler_Type_right arm fast medium</th>\n",
       "      <th>Bowler_Type_right arm leg break</th>\n",
       "      <th>Bowler_Type_right arm medium</th>\n",
       "      <th>Bowler_Type_right arm off break</th>\n",
       "    </tr>\n",
       "  </thead>\n",
       "  <tbody>\n",
       "    <tr>\n",
       "      <th>382</th>\n",
       "      <td>1</td>\n",
       "      <td>0</td>\n",
       "      <td>0</td>\n",
       "      <td>0</td>\n",
       "      <td>0</td>\n",
       "      <td>1</td>\n",
       "      <td>0</td>\n",
       "      <td>0</td>\n",
       "      <td>0</td>\n",
       "      <td>1</td>\n",
       "      <td>...</td>\n",
       "      <td>0</td>\n",
       "      <td>0</td>\n",
       "      <td>0</td>\n",
       "      <td>0</td>\n",
       "      <td>0</td>\n",
       "      <td>0</td>\n",
       "      <td>0</td>\n",
       "      <td>1</td>\n",
       "      <td>0</td>\n",
       "      <td>0</td>\n",
       "    </tr>\n",
       "    <tr>\n",
       "      <th>462</th>\n",
       "      <td>0</td>\n",
       "      <td>0</td>\n",
       "      <td>0</td>\n",
       "      <td>1</td>\n",
       "      <td>0</td>\n",
       "      <td>1</td>\n",
       "      <td>0</td>\n",
       "      <td>0</td>\n",
       "      <td>0</td>\n",
       "      <td>0</td>\n",
       "      <td>...</td>\n",
       "      <td>0</td>\n",
       "      <td>0</td>\n",
       "      <td>0</td>\n",
       "      <td>0</td>\n",
       "      <td>0</td>\n",
       "      <td>0</td>\n",
       "      <td>1</td>\n",
       "      <td>0</td>\n",
       "      <td>0</td>\n",
       "      <td>0</td>\n",
       "    </tr>\n",
       "    <tr>\n",
       "      <th>1645</th>\n",
       "      <td>0</td>\n",
       "      <td>0</td>\n",
       "      <td>0</td>\n",
       "      <td>1</td>\n",
       "      <td>0</td>\n",
       "      <td>0</td>\n",
       "      <td>0</td>\n",
       "      <td>1</td>\n",
       "      <td>0</td>\n",
       "      <td>0</td>\n",
       "      <td>...</td>\n",
       "      <td>0</td>\n",
       "      <td>0</td>\n",
       "      <td>0</td>\n",
       "      <td>1</td>\n",
       "      <td>0</td>\n",
       "      <td>0</td>\n",
       "      <td>0</td>\n",
       "      <td>0</td>\n",
       "      <td>0</td>\n",
       "      <td>0</td>\n",
       "    </tr>\n",
       "    <tr>\n",
       "      <th>1064</th>\n",
       "      <td>1</td>\n",
       "      <td>0</td>\n",
       "      <td>0</td>\n",
       "      <td>0</td>\n",
       "      <td>0</td>\n",
       "      <td>0</td>\n",
       "      <td>0</td>\n",
       "      <td>1</td>\n",
       "      <td>0</td>\n",
       "      <td>1</td>\n",
       "      <td>...</td>\n",
       "      <td>0</td>\n",
       "      <td>0</td>\n",
       "      <td>0</td>\n",
       "      <td>0</td>\n",
       "      <td>0</td>\n",
       "      <td>0</td>\n",
       "      <td>1</td>\n",
       "      <td>0</td>\n",
       "      <td>0</td>\n",
       "      <td>0</td>\n",
       "    </tr>\n",
       "    <tr>\n",
       "      <th>702</th>\n",
       "      <td>1</td>\n",
       "      <td>0</td>\n",
       "      <td>0</td>\n",
       "      <td>0</td>\n",
       "      <td>0</td>\n",
       "      <td>0</td>\n",
       "      <td>0</td>\n",
       "      <td>1</td>\n",
       "      <td>0</td>\n",
       "      <td>1</td>\n",
       "      <td>...</td>\n",
       "      <td>0</td>\n",
       "      <td>0</td>\n",
       "      <td>0</td>\n",
       "      <td>0</td>\n",
       "      <td>0</td>\n",
       "      <td>1</td>\n",
       "      <td>0</td>\n",
       "      <td>0</td>\n",
       "      <td>0</td>\n",
       "      <td>0</td>\n",
       "    </tr>\n",
       "  </tbody>\n",
       "</table>\n",
       "<p>5 rows × 28 columns</p>\n",
       "</div>"
      ],
      "text/plain": [
       "      Delivery_Length_Full  Delivery_Length_Full_toss  \\\n",
       "382                      1                          0   \n",
       "462                      0                          0   \n",
       "1645                     0                          0   \n",
       "1064                     1                          0   \n",
       "702                      1                          0   \n",
       "\n",
       "      Delivery_Length_GoodLength  Delivery_Length_Short  \\\n",
       "382                            0                      0   \n",
       "462                            0                      1   \n",
       "1645                           0                      1   \n",
       "1064                           0                      0   \n",
       "702                            0                      0   \n",
       "\n",
       "      Delivery_Length_Unknown  Delivery_Line_outside_stumps  \\\n",
       "382                         0                             1   \n",
       "462                         0                             1   \n",
       "1645                        0                             0   \n",
       "1064                        0                             0   \n",
       "702                         0                             0   \n",
       "\n",
       "      Delivery_Line_Unknown  Delivery_Line_wicket_to_wicket  Shot_Type_Cut  \\\n",
       "382                       0                               0              0   \n",
       "462                       0                               0              0   \n",
       "1645                      0                               1              0   \n",
       "1064                      0                               1              0   \n",
       "702                       0                               1              0   \n",
       "\n",
       "      Shot_Type_Defensive_shot               ...                 \\\n",
       "382                          1               ...                  \n",
       "462                          0               ...                  \n",
       "1645                         0               ...                  \n",
       "1064                         1               ...                  \n",
       "702                          1               ...                  \n",
       "\n",
       "      Shot_Type_Unknown  Bowler_Type_left arm chinaman  \\\n",
       "382                   0                              0   \n",
       "462                   0                              0   \n",
       "1645                  0                              0   \n",
       "1064                  0                              0   \n",
       "702                   0                              0   \n",
       "\n",
       "      Bowler_Type_left arm fast medium  Bowler_Type_left arm medium  \\\n",
       "382                                  0                            0   \n",
       "462                                  0                            0   \n",
       "1645                                 0                            1   \n",
       "1064                                 0                            0   \n",
       "702                                  0                            0   \n",
       "\n",
       "      Bowler_Type_left arm orthodox  Bowler_Type_right arm fast  \\\n",
       "382                               0                           0   \n",
       "462                               0                           0   \n",
       "1645                              0                           0   \n",
       "1064                              0                           0   \n",
       "702                               0                           1   \n",
       "\n",
       "      Bowler_Type_right arm fast medium  Bowler_Type_right arm leg break  \\\n",
       "382                                   0                                1   \n",
       "462                                   1                                0   \n",
       "1645                                  0                                0   \n",
       "1064                                  1                                0   \n",
       "702                                   0                                0   \n",
       "\n",
       "      Bowler_Type_right arm medium  Bowler_Type_right arm off break  \n",
       "382                              0                                0  \n",
       "462                              0                                0  \n",
       "1645                             0                                0  \n",
       "1064                             0                                0  \n",
       "702                              0                                0  \n",
       "\n",
       "[5 rows x 28 columns]"
      ]
     },
     "execution_count": 10,
     "metadata": {},
     "output_type": "execute_result"
    }
   ],
   "source": [
    "x_train.head()"
   ]
  },
  {
   "cell_type": "code",
   "execution_count": 11,
   "metadata": {},
   "outputs": [
    {
     "data": {
      "text/plain": [
       "382     not_beaten\n",
       "462     not_beaten\n",
       "1645    not_beaten\n",
       "1064    not_beaten\n",
       "702     not_beaten\n",
       "Name: Beaten/NotBeaten, dtype: object"
      ]
     },
     "execution_count": 11,
     "metadata": {},
     "output_type": "execute_result"
    }
   ],
   "source": [
    "y_train.head()"
   ]
  },
  {
   "cell_type": "markdown",
   "metadata": {},
   "source": [
    "## Decision Tree"
   ]
  },
  {
   "cell_type": "code",
   "execution_count": 17,
   "metadata": {},
   "outputs": [
    {
     "data": {
      "text/plain": [
       "DecisionTreeClassifier(class_weight=None, criterion='gini', max_depth=None,\n",
       "            max_features=None, max_leaf_nodes=None,\n",
       "            min_impurity_decrease=0.0, min_impurity_split=None,\n",
       "            min_samples_leaf=1, min_samples_split=2,\n",
       "            min_weight_fraction_leaf=0.0, presort=False, random_state=None,\n",
       "            splitter='best')"
      ]
     },
     "execution_count": 17,
     "metadata": {},
     "output_type": "execute_result"
    }
   ],
   "source": [
    "# Import Tree methods and fit the training set to our Decision Tree model\n",
    "from sklearn import tree\n",
    "tree_model = tree.DecisionTreeClassifier()\n",
    "tree_model.fit(x_train,y_train)"
   ]
  },
  {
   "cell_type": "code",
   "execution_count": 18,
   "metadata": {
    "collapsed": true
   },
   "outputs": [],
   "source": [
    "# Predict the target variable\n",
    "y_pred = tree_model.predict(x_test)"
   ]
  },
  {
   "cell_type": "markdown",
   "metadata": {},
   "source": [
    "** Model Evaluation **"
   ]
  },
  {
   "cell_type": "markdown",
   "metadata": {},
   "source": [
    "** Display Accuracy Score, Confusion Matrix and Classification Report for different parameters of Model Evaluation like Accuracy, Precision, f1-Score **"
   ]
  },
  {
   "cell_type": "code",
   "execution_count": 15,
   "metadata": {
    "collapsed": true
   },
   "outputs": [],
   "source": [
    "from sklearn.metrics import confusion_matrix,classification_report,accuracy_score"
   ]
  },
  {
   "cell_type": "code",
   "execution_count": 19,
   "metadata": {},
   "outputs": [
    {
     "name": "stdout",
     "output_type": "stream",
     "text": [
      "Accuracy Score: 0.892097264438\n",
      "\n",
      "\n",
      "Confusion Matrix:\n",
      "\n",
      "\n",
      "[[ 53  47]\n",
      " [ 24 534]]\n",
      "\n",
      "\n",
      "Classification Report:\n",
      "\n",
      "\n",
      "             precision    recall  f1-score   support\n",
      "\n",
      "     beaten       0.69      0.53      0.60       100\n",
      " not_beaten       0.92      0.96      0.94       558\n",
      "\n",
      "avg / total       0.88      0.89      0.89       658\n",
      "\n"
     ]
    }
   ],
   "source": [
    "print('Accuracy Score:',accuracy_score(y_test,y_pred))\n",
    "print('\\n')\n",
    "print('Confusion Matrix:')\n",
    "print('\\n')\n",
    "print(confusion_matrix(y_test,y_pred))\n",
    "print('\\n')\n",
    "print('Classification Report:')\n",
    "print('\\n')\n",
    "print(classification_report(y_test,y_pred))"
   ]
  },
  {
   "cell_type": "markdown",
   "metadata": {},
   "source": [
    "## Tuning our Model Hyperparameters"
   ]
  },
  {
   "cell_type": "markdown",
   "metadata": {},
   "source": [
    "We employ RandomizedSearch to evaluate the best hyperparameters to tune our decision tree model"
   ]
  },
  {
   "cell_type": "code",
   "execution_count": 21,
   "metadata": {
    "collapsed": true
   },
   "outputs": [],
   "source": [
    "from scipy.stats import randint"
   ]
  },
  {
   "cell_type": "code",
   "execution_count": 22,
   "metadata": {
    "collapsed": true
   },
   "outputs": [],
   "source": [
    "from  sklearn.model_selection import RandomizedSearchCV"
   ]
  },
  {
   "cell_type": "markdown",
   "metadata": {},
   "source": [
    "** maximum depth parameter indicates the depth of the decision tree. Also called pruning of decsion tree, so that our model does not overfit the data. **\n",
    "\n",
    "** max features indicates the maximum number of features considered for splitting a node. **\n",
    "\n",
    "** min_sample_leaf indicates the minimum number of data points allowed in a leaf node. Increasing the parameter by a large extent can cause the model to underfit. **\n",
    "\n",
    "** gini and entropy (information gain) are two metrics for deciding how to split a tree **"
   ]
  },
  {
   "cell_type": "code",
   "execution_count": 23,
   "metadata": {
    "collapsed": true
   },
   "outputs": [],
   "source": [
    "# We create a dictionary of parameter options\n",
    "param_dist = {\"max_depth\": randint(1,40),\n",
    "              \"max_features\": randint(1, 5),\n",
    "              \"min_samples_leaf\": randint(1, 9),\n",
    "              \"criterion\": [\"gini\", \"entropy\"]}"
   ]
  },
  {
   "cell_type": "code",
   "execution_count": 24,
   "metadata": {
    "collapsed": true
   },
   "outputs": [],
   "source": [
    "# We set the refit value to True. 10 iterations and 5 cross-validation\n",
    "Decision_Tree_tunning = RandomizedSearchCV(tree_model,param_distributions=param_dist,refit = True,n_iter = 10,cv=5) "
   ]
  },
  {
   "cell_type": "code",
   "execution_count": 25,
   "metadata": {},
   "outputs": [
    {
     "data": {
      "text/plain": [
       "RandomizedSearchCV(cv=5, error_score='raise',\n",
       "          estimator=DecisionTreeClassifier(class_weight=None, criterion='gini', max_depth=None,\n",
       "            max_features=None, max_leaf_nodes=None,\n",
       "            min_impurity_decrease=0.0, min_impurity_split=None,\n",
       "            min_samples_leaf=1, min_samples_split=2,\n",
       "            min_weight_fraction_leaf=0.0, presort=False, random_state=None,\n",
       "            splitter='best'),\n",
       "          fit_params=None, iid=True, n_iter=10, n_jobs=1,\n",
       "          param_distributions={'max_depth': <scipy.stats._distn_infrastructure.rv_frozen object at 0x0000021064690F28>, 'max_features': <scipy.stats._distn_infrastructure.rv_frozen object at 0x0000021064690828>, 'min_samples_leaf': <scipy.stats._distn_infrastructure.rv_frozen object at 0x00000210647500F0>, 'criterion': ['gini', 'entropy']},\n",
       "          pre_dispatch='2*n_jobs', random_state=None, refit=True,\n",
       "          return_train_score='warn', scoring=None, verbose=0)"
      ]
     },
     "execution_count": 25,
     "metadata": {},
     "output_type": "execute_result"
    }
   ],
   "source": [
    "Decision_Tree_tunning.fit(x_train,y_train)"
   ]
  },
  {
   "cell_type": "code",
   "execution_count": 26,
   "metadata": {},
   "outputs": [
    {
     "name": "stdout",
     "output_type": "stream",
     "text": [
      "Tuned Decision Tree Parameters: {'criterion': 'entropy', 'max_depth': 15, 'max_features': 4, 'min_samples_leaf': 4}\n"
     ]
    }
   ],
   "source": [
    "# Best hyperparameters from RandomizedSearch\n",
    "print(\"Tuned Decision Tree Parameters: {}\".format(Decision_Tree_tunning.best_params_))"
   ]
  },
  {
   "cell_type": "code",
   "execution_count": 27,
   "metadata": {
    "collapsed": true
   },
   "outputs": [],
   "source": [
    "y_pred_CV = Decision_Tree_tunning.predict(x_test)"
   ]
  },
  {
   "cell_type": "code",
   "execution_count": 28,
   "metadata": {},
   "outputs": [
    {
     "name": "stdout",
     "output_type": "stream",
     "text": [
      "Accuracy Score: 0.911854103343\n",
      "\n",
      "\n",
      "Confusion Matrix:\n",
      "\n",
      "\n",
      "[[ 56  44]\n",
      " [ 14 544]]\n",
      "\n",
      "\n",
      "Classification Report:\n",
      "\n",
      "\n",
      "             precision    recall  f1-score   support\n",
      "\n",
      "     beaten       0.80      0.56      0.66       100\n",
      " not_beaten       0.93      0.97      0.95       558\n",
      "\n",
      "avg / total       0.91      0.91      0.91       658\n",
      "\n"
     ]
    }
   ],
   "source": [
    "print('Accuracy Score:',accuracy_score(y_test,y_pred_CV))\n",
    "print('\\n')\n",
    "print('Confusion Matrix:')\n",
    "print('\\n')\n",
    "print(confusion_matrix(y_test,y_pred_CV))\n",
    "print('\\n')\n",
    "print('Classification Report:')\n",
    "print('\\n')\n",
    "print(classification_report(y_test,y_pred_CV))"
   ]
  },
  {
   "cell_type": "markdown",
   "metadata": {},
   "source": [
    "## Random Forest"
   ]
  },
  {
   "cell_type": "markdown",
   "metadata": {},
   "source": [
    "Random Forest is an ensemble of decision trees. They are trained via the bagging method."
   ]
  },
  {
   "cell_type": "code",
   "execution_count": 29,
   "metadata": {},
   "outputs": [
    {
     "data": {
      "text/plain": [
       "RandomForestClassifier(bootstrap=True, class_weight=None, criterion='gini',\n",
       "            max_depth=5, max_features='auto', max_leaf_nodes=None,\n",
       "            min_impurity_decrease=0.0, min_impurity_split=None,\n",
       "            min_samples_leaf=1, min_samples_split=2,\n",
       "            min_weight_fraction_leaf=0.0, n_estimators=10, n_jobs=1,\n",
       "            oob_score=False, random_state=42, verbose=0, warm_start=False)"
      ]
     },
     "execution_count": 29,
     "metadata": {},
     "output_type": "execute_result"
    }
   ],
   "source": [
    "from sklearn.ensemble import RandomForestClassifier\n",
    "rf_model=RandomForestClassifier(random_state=42,max_depth=5)\n",
    "rf_model.fit(x_train,y_train)"
   ]
  },
  {
   "cell_type": "code",
   "execution_count": 30,
   "metadata": {
    "collapsed": true
   },
   "outputs": [],
   "source": [
    "# Predict the target variable\n",
    "rf_pred=rf_model.predict(x_test)"
   ]
  },
  {
   "cell_type": "markdown",
   "metadata": {},
   "source": [
    "**Model Evaluation**"
   ]
  },
  {
   "cell_type": "code",
   "execution_count": 31,
   "metadata": {},
   "outputs": [
    {
     "name": "stdout",
     "output_type": "stream",
     "text": [
      "Accuracy Score: 0.908814589666\n",
      "\n",
      "\n",
      "Confusion Matrix:\n",
      "\n",
      "\n",
      "[[ 45  55]\n",
      " [  5 553]]\n",
      "\n",
      "\n",
      "Classification Report:\n",
      "\n",
      "\n",
      "             precision    recall  f1-score   support\n",
      "\n",
      "     beaten       0.90      0.45      0.60       100\n",
      " not_beaten       0.91      0.99      0.95       558\n",
      "\n",
      "avg / total       0.91      0.91      0.90       658\n",
      "\n"
     ]
    }
   ],
   "source": [
    "print('Accuracy Score:',accuracy_score(y_test,rf_pred))\n",
    "print('\\n')\n",
    "print('Confusion Matrix:')\n",
    "print('\\n')\n",
    "print(confusion_matrix(y_test,rf_pred))\n",
    "print('\\n')\n",
    "print('Classification Report:')\n",
    "print('\\n')\n",
    "print(classification_report(y_test,rf_pred))"
   ]
  },
  {
   "cell_type": "code",
   "execution_count": null,
   "metadata": {
    "collapsed": true
   },
   "outputs": [],
   "source": []
  }
 ],
 "metadata": {
  "kernelspec": {
   "display_name": "Python 3",
   "language": "python",
   "name": "python3"
  },
  "language_info": {
   "codemirror_mode": {
    "name": "ipython",
    "version": 3
   },
   "file_extension": ".py",
   "mimetype": "text/x-python",
   "name": "python",
   "nbconvert_exporter": "python",
   "pygments_lexer": "ipython3",
   "version": "3.6.3"
  }
 },
 "nbformat": 4,
 "nbformat_minor": 2
}
