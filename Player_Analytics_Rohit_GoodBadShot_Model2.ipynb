{
 "cells": [
  {
   "cell_type": "code",
   "execution_count": 1,
   "metadata": {
    "collapsed": true
   },
   "outputs": [],
   "source": [
    "#Importing necessary libraries\n",
    "import pandas as pd\n",
    "import numpy as np"
   ]
  },
  {
   "cell_type": "code",
   "execution_count": 12,
   "metadata": {
    "collapsed": true
   },
   "outputs": [],
   "source": [
    "# Read the csv file and save it as a Pandas DataFrame\n",
    "df_Rohit = pd.read_csv(\"D:/knowledge/college docs/DSP/Project_1/New/Rohit_Final.csv\")"
   ]
  },
  {
   "cell_type": "code",
   "execution_count": 13,
   "metadata": {},
   "outputs": [
    {
     "data": {
      "text/html": [
       "<div>\n",
       "<style>\n",
       "    .dataframe thead tr:only-child th {\n",
       "        text-align: right;\n",
       "    }\n",
       "\n",
       "    .dataframe thead th {\n",
       "        text-align: left;\n",
       "    }\n",
       "\n",
       "    .dataframe tbody tr th {\n",
       "        vertical-align: top;\n",
       "    }\n",
       "</style>\n",
       "<table border=\"1\" class=\"dataframe\">\n",
       "  <thead>\n",
       "    <tr style=\"text-align: right;\">\n",
       "      <th></th>\n",
       "      <th>Unnamed: 0</th>\n",
       "      <th>Commentary</th>\n",
       "      <th>Runs</th>\n",
       "      <th>Delivery_Length</th>\n",
       "      <th>Delivery_Line</th>\n",
       "      <th>Shot_Type</th>\n",
       "      <th>Run/NoRun</th>\n",
       "      <th>Bowler_Type</th>\n",
       "      <th>Bowler_Name</th>\n",
       "      <th>Avg_Ball_Speed</th>\n",
       "      <th>...</th>\n",
       "      <th>Beaten/NotBeaten</th>\n",
       "      <th>Home_Away</th>\n",
       "      <th>Good_Bad_Shot</th>\n",
       "      <th>Opponent</th>\n",
       "      <th>Stadium</th>\n",
       "      <th>Shot_Zone</th>\n",
       "      <th>Delivery_Number</th>\n",
       "      <th>Toss</th>\n",
       "      <th>TossDecision</th>\n",
       "      <th>D/N</th>\n",
       "    </tr>\n",
       "  </thead>\n",
       "  <tbody>\n",
       "    <tr>\n",
       "      <th>0</th>\n",
       "      <td>2</td>\n",
       "      <td>Morne Morkel to Rohit, no run, stays in the cr...</td>\n",
       "      <td>0</td>\n",
       "      <td>Short</td>\n",
       "      <td>outside_stumps</td>\n",
       "      <td>Defensive_shot</td>\n",
       "      <td>norun</td>\n",
       "      <td>right arm fast</td>\n",
       "      <td>Morne Morkel</td>\n",
       "      <td>139.2</td>\n",
       "      <td>...</td>\n",
       "      <td>not_beaten</td>\n",
       "      <td>away</td>\n",
       "      <td>bad</td>\n",
       "      <td>South Africa</td>\n",
       "      <td>Kingsmead</td>\n",
       "      <td>Unknown</td>\n",
       "      <td>29</td>\n",
       "      <td>0</td>\n",
       "      <td>Batting</td>\n",
       "      <td>DN</td>\n",
       "    </tr>\n",
       "    <tr>\n",
       "      <th>1</th>\n",
       "      <td>3</td>\n",
       "      <td>Morne Morkel to Rohit, 2 runs, &lt;b&gt;almost dragg...</td>\n",
       "      <td>2</td>\n",
       "      <td>Short</td>\n",
       "      <td>wicket_to_wicket</td>\n",
       "      <td>Edge</td>\n",
       "      <td>run</td>\n",
       "      <td>right arm fast</td>\n",
       "      <td>Morne Morkel</td>\n",
       "      <td>139.2</td>\n",
       "      <td>...</td>\n",
       "      <td>beaten</td>\n",
       "      <td>away</td>\n",
       "      <td>bad</td>\n",
       "      <td>South Africa</td>\n",
       "      <td>Kingsmead</td>\n",
       "      <td>FineLeg</td>\n",
       "      <td>28</td>\n",
       "      <td>0</td>\n",
       "      <td>Batting</td>\n",
       "      <td>DN</td>\n",
       "    </tr>\n",
       "    <tr>\n",
       "      <th>2</th>\n",
       "      <td>4</td>\n",
       "      <td>Rabada to Rohit, 1 run, good comeback from Rab...</td>\n",
       "      <td>1</td>\n",
       "      <td>GoodLength</td>\n",
       "      <td>outside_stumps</td>\n",
       "      <td>Late_Cut</td>\n",
       "      <td>run</td>\n",
       "      <td>right arm fast</td>\n",
       "      <td>Rabada</td>\n",
       "      <td>138.3</td>\n",
       "      <td>...</td>\n",
       "      <td>beaten</td>\n",
       "      <td>away</td>\n",
       "      <td>good</td>\n",
       "      <td>South Africa</td>\n",
       "      <td>Kingsmead</td>\n",
       "      <td>Point</td>\n",
       "      <td>27</td>\n",
       "      <td>0</td>\n",
       "      <td>Batting</td>\n",
       "      <td>DN</td>\n",
       "    </tr>\n",
       "    <tr>\n",
       "      <th>3</th>\n",
       "      <td>5</td>\n",
       "      <td>Rabada to Rohit, no run, Rohit must be cursing...</td>\n",
       "      <td>0</td>\n",
       "      <td>Full_toss</td>\n",
       "      <td>outside_stumps</td>\n",
       "      <td>Pull_hook</td>\n",
       "      <td>norun</td>\n",
       "      <td>right arm fast</td>\n",
       "      <td>Rabada</td>\n",
       "      <td>138.3</td>\n",
       "      <td>...</td>\n",
       "      <td>not_beaten</td>\n",
       "      <td>away</td>\n",
       "      <td>bad</td>\n",
       "      <td>South Africa</td>\n",
       "      <td>Kingsmead</td>\n",
       "      <td>Midwicket</td>\n",
       "      <td>26</td>\n",
       "      <td>0</td>\n",
       "      <td>Batting</td>\n",
       "      <td>DN</td>\n",
       "    </tr>\n",
       "    <tr>\n",
       "      <th>4</th>\n",
       "      <td>6</td>\n",
       "      <td>Rabada to Rohit, no run, pacy back of a length...</td>\n",
       "      <td>0</td>\n",
       "      <td>Short</td>\n",
       "      <td>wicket_to_wicket</td>\n",
       "      <td>Defensive_shot</td>\n",
       "      <td>norun</td>\n",
       "      <td>right arm fast</td>\n",
       "      <td>Rabada</td>\n",
       "      <td>138.3</td>\n",
       "      <td>...</td>\n",
       "      <td>not_beaten</td>\n",
       "      <td>away</td>\n",
       "      <td>bad</td>\n",
       "      <td>South Africa</td>\n",
       "      <td>Kingsmead</td>\n",
       "      <td>Unknown</td>\n",
       "      <td>25</td>\n",
       "      <td>0</td>\n",
       "      <td>Batting</td>\n",
       "      <td>DN</td>\n",
       "    </tr>\n",
       "  </tbody>\n",
       "</table>\n",
       "<p>5 rows × 23 columns</p>\n",
       "</div>"
      ],
      "text/plain": [
       "   Unnamed: 0                                         Commentary  Runs  \\\n",
       "0           2  Morne Morkel to Rohit, no run, stays in the cr...     0   \n",
       "1           3  Morne Morkel to Rohit, 2 runs, <b>almost dragg...     2   \n",
       "2           4  Rabada to Rohit, 1 run, good comeback from Rab...     1   \n",
       "3           5  Rabada to Rohit, no run, Rohit must be cursing...     0   \n",
       "4           6  Rabada to Rohit, no run, pacy back of a length...     0   \n",
       "\n",
       "  Delivery_Length     Delivery_Line       Shot_Type Run/NoRun     Bowler_Type  \\\n",
       "0           Short    outside_stumps  Defensive_shot     norun  right arm fast   \n",
       "1           Short  wicket_to_wicket            Edge       run  right arm fast   \n",
       "2      GoodLength    outside_stumps        Late_Cut       run  right arm fast   \n",
       "3       Full_toss    outside_stumps       Pull_hook     norun  right arm fast   \n",
       "4           Short  wicket_to_wicket  Defensive_shot     norun  right arm fast   \n",
       "\n",
       "    Bowler_Name  Avg_Ball_Speed ...   Beaten/NotBeaten  Home_Away  \\\n",
       "0  Morne Morkel           139.2 ...         not_beaten       away   \n",
       "1  Morne Morkel           139.2 ...             beaten       away   \n",
       "2        Rabada           138.3 ...             beaten       away   \n",
       "3        Rabada           138.3 ...         not_beaten       away   \n",
       "4        Rabada           138.3 ...         not_beaten       away   \n",
       "\n",
       "  Good_Bad_Shot      Opponent    Stadium  Shot_Zone Delivery_Number Toss  \\\n",
       "0           bad  South Africa  Kingsmead    Unknown              29    0   \n",
       "1           bad  South Africa  Kingsmead    FineLeg              28    0   \n",
       "2          good  South Africa  Kingsmead      Point              27    0   \n",
       "3           bad  South Africa  Kingsmead  Midwicket              26    0   \n",
       "4           bad  South Africa  Kingsmead    Unknown              25    0   \n",
       "\n",
       "  TossDecision  D/N  \n",
       "0      Batting   DN  \n",
       "1      Batting   DN  \n",
       "2      Batting   DN  \n",
       "3      Batting   DN  \n",
       "4      Batting   DN  \n",
       "\n",
       "[5 rows x 23 columns]"
      ]
     },
     "execution_count": 13,
     "metadata": {},
     "output_type": "execute_result"
    }
   ],
   "source": [
    "df_Rohit.head()"
   ]
  },
  {
   "cell_type": "code",
   "execution_count": 14,
   "metadata": {},
   "outputs": [
    {
     "data": {
      "text/plain": [
       "Index(['Dismissal_Type'], dtype='object')"
      ]
     },
     "execution_count": 14,
     "metadata": {},
     "output_type": "execute_result"
    }
   ],
   "source": [
    "null_columns=df_Rohit.columns[df_Rohit.isnull().any()]\n",
    "null_columns"
   ]
  },
  {
   "cell_type": "code",
   "execution_count": 15,
   "metadata": {},
   "outputs": [
    {
     "data": {
      "text/plain": [
       "Short         817\n",
       "Full          643\n",
       "GoodLength    515\n",
       "Unknown       177\n",
       "Full_toss      40\n",
       "Name: Delivery_Length, dtype: int64"
      ]
     },
     "execution_count": 15,
     "metadata": {},
     "output_type": "execute_result"
    }
   ],
   "source": [
    "df_Rohit['Delivery_Length'].value_counts()"
   ]
  },
  {
   "cell_type": "code",
   "execution_count": 16,
   "metadata": {},
   "outputs": [
    {
     "data": {
      "text/plain": [
       "outside_stumps      1004\n",
       "wicket_to_wicket     949\n",
       "Unknown              239\n",
       "Name: Delivery_Line, dtype: int64"
      ]
     },
     "execution_count": 16,
     "metadata": {},
     "output_type": "execute_result"
    }
   ],
   "source": [
    "df_Rohit['Delivery_Line'].value_counts()"
   ]
  },
  {
   "cell_type": "code",
   "execution_count": 17,
   "metadata": {},
   "outputs": [
    {
     "data": {
      "text/plain": [
       "Defensive_shot    461\n",
       "Drive             395\n",
       "Unknown           327\n",
       "Pull_hook         261\n",
       "Late_Cut          160\n",
       "Cut               141\n",
       "No_shot           139\n",
       "Edge              110\n",
       "Flick             105\n",
       "Sweep              76\n",
       "Glance             17\n",
       "Name: Shot_Type, dtype: int64"
      ]
     },
     "execution_count": 17,
     "metadata": {},
     "output_type": "execute_result"
    }
   ],
   "source": [
    "df_Rohit['Shot_Type'].value_counts()"
   ]
  },
  {
   "cell_type": "code",
   "execution_count": 18,
   "metadata": {},
   "outputs": [
    {
     "data": {
      "text/plain": [
       "Unknown      764\n",
       "Cover        290\n",
       "Point        236\n",
       "LongOn       208\n",
       "Midwicket    185\n",
       "ThirdMan     164\n",
       "LongOff      131\n",
       "SquareLeg    124\n",
       "FineLeg       90\n",
       "Name: Shot_Zone, dtype: int64"
      ]
     },
     "execution_count": 18,
     "metadata": {},
     "output_type": "execute_result"
    }
   ],
   "source": [
    "df_Rohit['Shot_Zone'].value_counts()"
   ]
  },
  {
   "cell_type": "code",
   "execution_count": 19,
   "metadata": {},
   "outputs": [
    {
     "data": {
      "text/plain": [
       "right arm fast medium    620\n",
       "right arm fast           435\n",
       "right arm medium         243\n",
       "right arm off break      232\n",
       "left arm fast medium     211\n",
       "left arm orthodox        201\n",
       "left arm medium          128\n",
       "right arm leg break       86\n",
       "left arm chinaman         36\n",
       "Name: Bowler_Type, dtype: int64"
      ]
     },
     "execution_count": 19,
     "metadata": {},
     "output_type": "execute_result"
    }
   ],
   "source": [
    "df_Rohit['Bowler_Type'].value_counts()"
   ]
  },
  {
   "cell_type": "markdown",
   "metadata": {},
   "source": [
    "# Model 1"
   ]
  },
  {
   "cell_type": "code",
   "execution_count": 44,
   "metadata": {},
   "outputs": [
    {
     "data": {
      "text/html": [
       "<div>\n",
       "<style>\n",
       "    .dataframe thead tr:only-child th {\n",
       "        text-align: right;\n",
       "    }\n",
       "\n",
       "    .dataframe thead th {\n",
       "        text-align: left;\n",
       "    }\n",
       "\n",
       "    .dataframe tbody tr th {\n",
       "        vertical-align: top;\n",
       "    }\n",
       "</style>\n",
       "<table border=\"1\" class=\"dataframe\">\n",
       "  <thead>\n",
       "    <tr style=\"text-align: right;\">\n",
       "      <th></th>\n",
       "      <th>Avg_Ball_Speed</th>\n",
       "      <th>Delivery_Number</th>\n",
       "      <th>left arm chinaman</th>\n",
       "      <th>left arm fast medium</th>\n",
       "      <th>left arm medium</th>\n",
       "      <th>left arm orthodox</th>\n",
       "      <th>right arm fast</th>\n",
       "      <th>right arm fast medium</th>\n",
       "      <th>right arm leg break</th>\n",
       "      <th>right arm medium</th>\n",
       "      <th>...</th>\n",
       "      <th>Defensive_shot</th>\n",
       "      <th>Drive</th>\n",
       "      <th>Edge</th>\n",
       "      <th>Flick</th>\n",
       "      <th>Glance</th>\n",
       "      <th>Late_Cut</th>\n",
       "      <th>No_shot</th>\n",
       "      <th>Pull_hook</th>\n",
       "      <th>Sweep</th>\n",
       "      <th>Unknown</th>\n",
       "    </tr>\n",
       "  </thead>\n",
       "  <tbody>\n",
       "    <tr>\n",
       "      <th>0</th>\n",
       "      <td>139.2</td>\n",
       "      <td>29</td>\n",
       "      <td>0</td>\n",
       "      <td>0</td>\n",
       "      <td>0</td>\n",
       "      <td>0</td>\n",
       "      <td>1</td>\n",
       "      <td>0</td>\n",
       "      <td>0</td>\n",
       "      <td>0</td>\n",
       "      <td>...</td>\n",
       "      <td>1</td>\n",
       "      <td>0</td>\n",
       "      <td>0</td>\n",
       "      <td>0</td>\n",
       "      <td>0</td>\n",
       "      <td>0</td>\n",
       "      <td>0</td>\n",
       "      <td>0</td>\n",
       "      <td>0</td>\n",
       "      <td>0</td>\n",
       "    </tr>\n",
       "    <tr>\n",
       "      <th>1</th>\n",
       "      <td>139.2</td>\n",
       "      <td>28</td>\n",
       "      <td>0</td>\n",
       "      <td>0</td>\n",
       "      <td>0</td>\n",
       "      <td>0</td>\n",
       "      <td>1</td>\n",
       "      <td>0</td>\n",
       "      <td>0</td>\n",
       "      <td>0</td>\n",
       "      <td>...</td>\n",
       "      <td>0</td>\n",
       "      <td>0</td>\n",
       "      <td>1</td>\n",
       "      <td>0</td>\n",
       "      <td>0</td>\n",
       "      <td>0</td>\n",
       "      <td>0</td>\n",
       "      <td>0</td>\n",
       "      <td>0</td>\n",
       "      <td>0</td>\n",
       "    </tr>\n",
       "    <tr>\n",
       "      <th>2</th>\n",
       "      <td>138.3</td>\n",
       "      <td>27</td>\n",
       "      <td>0</td>\n",
       "      <td>0</td>\n",
       "      <td>0</td>\n",
       "      <td>0</td>\n",
       "      <td>1</td>\n",
       "      <td>0</td>\n",
       "      <td>0</td>\n",
       "      <td>0</td>\n",
       "      <td>...</td>\n",
       "      <td>0</td>\n",
       "      <td>0</td>\n",
       "      <td>0</td>\n",
       "      <td>0</td>\n",
       "      <td>0</td>\n",
       "      <td>1</td>\n",
       "      <td>0</td>\n",
       "      <td>0</td>\n",
       "      <td>0</td>\n",
       "      <td>0</td>\n",
       "    </tr>\n",
       "    <tr>\n",
       "      <th>3</th>\n",
       "      <td>138.3</td>\n",
       "      <td>26</td>\n",
       "      <td>0</td>\n",
       "      <td>0</td>\n",
       "      <td>0</td>\n",
       "      <td>0</td>\n",
       "      <td>1</td>\n",
       "      <td>0</td>\n",
       "      <td>0</td>\n",
       "      <td>0</td>\n",
       "      <td>...</td>\n",
       "      <td>0</td>\n",
       "      <td>0</td>\n",
       "      <td>0</td>\n",
       "      <td>0</td>\n",
       "      <td>0</td>\n",
       "      <td>0</td>\n",
       "      <td>0</td>\n",
       "      <td>1</td>\n",
       "      <td>0</td>\n",
       "      <td>0</td>\n",
       "    </tr>\n",
       "    <tr>\n",
       "      <th>4</th>\n",
       "      <td>138.3</td>\n",
       "      <td>25</td>\n",
       "      <td>0</td>\n",
       "      <td>0</td>\n",
       "      <td>0</td>\n",
       "      <td>0</td>\n",
       "      <td>1</td>\n",
       "      <td>0</td>\n",
       "      <td>0</td>\n",
       "      <td>0</td>\n",
       "      <td>...</td>\n",
       "      <td>1</td>\n",
       "      <td>0</td>\n",
       "      <td>0</td>\n",
       "      <td>0</td>\n",
       "      <td>0</td>\n",
       "      <td>0</td>\n",
       "      <td>0</td>\n",
       "      <td>0</td>\n",
       "      <td>0</td>\n",
       "      <td>0</td>\n",
       "    </tr>\n",
       "  </tbody>\n",
       "</table>\n",
       "<p>5 rows × 32 columns</p>\n",
       "</div>"
      ],
      "text/plain": [
       "   Avg_Ball_Speed  Delivery_Number  left arm chinaman  left arm fast medium  \\\n",
       "0           139.2               29                  0                     0   \n",
       "1           139.2               28                  0                     0   \n",
       "2           138.3               27                  0                     0   \n",
       "3           138.3               26                  0                     0   \n",
       "4           138.3               25                  0                     0   \n",
       "\n",
       "   left arm medium  left arm orthodox  right arm fast  right arm fast medium  \\\n",
       "0                0                  0               1                      0   \n",
       "1                0                  0               1                      0   \n",
       "2                0                  0               1                      0   \n",
       "3                0                  0               1                      0   \n",
       "4                0                  0               1                      0   \n",
       "\n",
       "   right arm leg break  right arm medium   ...     Defensive_shot  Drive  \\\n",
       "0                    0                 0   ...                  1      0   \n",
       "1                    0                 0   ...                  0      0   \n",
       "2                    0                 0   ...                  0      0   \n",
       "3                    0                 0   ...                  0      0   \n",
       "4                    0                 0   ...                  1      0   \n",
       "\n",
       "   Edge  Flick  Glance  Late_Cut  No_shot  Pull_hook  Sweep  Unknown  \n",
       "0     0      0       0         0        0          0      0        0  \n",
       "1     1      0       0         0        0          0      0        0  \n",
       "2     0      0       0         1        0          0      0        0  \n",
       "3     0      0       0         0        0          1      0        0  \n",
       "4     0      0       0         0        0          0      0        0  \n",
       "\n",
       "[5 rows x 32 columns]"
      ]
     },
     "execution_count": 44,
     "metadata": {},
     "output_type": "execute_result"
    }
   ],
   "source": [
    "cols = ['Bowler_Type','Delivery_Length','Delivery_Line','Avg_Ball_Speed','Delivery_Number','Home_Away','Shot_Type']\n",
    "\n",
    "x = df_Rohit[cols]\n",
    "df_Rohit_Y = df_Rohit['Good_Bad_Shot']\n",
    "Avg_Ball_Speed=df_Rohit['Avg_Ball_Speed']\n",
    "Delivery_Number=df_Rohit['Delivery_Number']\n",
    "#line_df = rohit['Delivery Line'].to_frame\n",
    "dummy_bowler_type = pd.get_dummies(df_Rohit['Bowler_Type'])\n",
    "dummy_home_away = pd.get_dummies(df_Rohit['Delivery_Length'])\n",
    "dummy_line = pd.get_dummies(df_Rohit['Delivery_Line'])\n",
    "dummy_length = pd.get_dummies(df_Rohit['Home_Away'])\n",
    "dummy_shotype = pd.get_dummies(df_Rohit['Shot_Type'])\n",
    "#dummy_line\n",
    "df_Rohit_X = pd.concat([Avg_Ball_Speed,Delivery_Number,dummy_bowler_type,dummy_home_away,dummy_line,dummy_length,dummy_shotype],axis = 1)\n",
    "df_Rohit_X.head()\n"
   ]
  },
  {
   "cell_type": "code",
   "execution_count": 45,
   "metadata": {
    "collapsed": true
   },
   "outputs": [],
   "source": [
    "from sklearn.model_selection import train_test_split\n",
    "from sklearn.neighbors import KNeighborsClassifier\n",
    "from sklearn.metrics import confusion_matrix,classification_report,accuracy_score"
   ]
  },
  {
   "cell_type": "code",
   "execution_count": 46,
   "metadata": {
    "collapsed": true
   },
   "outputs": [],
   "source": [
    "x_train, x_test, y_train, y_test = train_test_split(df_Rohit_X, df_Rohit_Y, test_size=0.2,stratify=df_Rohit_Y, random_state=42)"
   ]
  },
  {
   "cell_type": "code",
   "execution_count": 47,
   "metadata": {},
   "outputs": [
    {
     "data": {
      "text/html": [
       "<div>\n",
       "<style>\n",
       "    .dataframe thead tr:only-child th {\n",
       "        text-align: right;\n",
       "    }\n",
       "\n",
       "    .dataframe thead th {\n",
       "        text-align: left;\n",
       "    }\n",
       "\n",
       "    .dataframe tbody tr th {\n",
       "        vertical-align: top;\n",
       "    }\n",
       "</style>\n",
       "<table border=\"1\" class=\"dataframe\">\n",
       "  <thead>\n",
       "    <tr style=\"text-align: right;\">\n",
       "      <th></th>\n",
       "      <th>Avg_Ball_Speed</th>\n",
       "      <th>Delivery_Number</th>\n",
       "      <th>left arm chinaman</th>\n",
       "      <th>left arm fast medium</th>\n",
       "      <th>left arm medium</th>\n",
       "      <th>left arm orthodox</th>\n",
       "      <th>right arm fast</th>\n",
       "      <th>right arm fast medium</th>\n",
       "      <th>right arm leg break</th>\n",
       "      <th>right arm medium</th>\n",
       "      <th>...</th>\n",
       "      <th>Defensive_shot</th>\n",
       "      <th>Drive</th>\n",
       "      <th>Edge</th>\n",
       "      <th>Flick</th>\n",
       "      <th>Glance</th>\n",
       "      <th>Late_Cut</th>\n",
       "      <th>No_shot</th>\n",
       "      <th>Pull_hook</th>\n",
       "      <th>Sweep</th>\n",
       "      <th>Unknown</th>\n",
       "    </tr>\n",
       "  </thead>\n",
       "  <tbody>\n",
       "    <tr>\n",
       "      <th>0</th>\n",
       "      <td>139.2</td>\n",
       "      <td>29</td>\n",
       "      <td>0</td>\n",
       "      <td>0</td>\n",
       "      <td>0</td>\n",
       "      <td>0</td>\n",
       "      <td>1</td>\n",
       "      <td>0</td>\n",
       "      <td>0</td>\n",
       "      <td>0</td>\n",
       "      <td>...</td>\n",
       "      <td>1</td>\n",
       "      <td>0</td>\n",
       "      <td>0</td>\n",
       "      <td>0</td>\n",
       "      <td>0</td>\n",
       "      <td>0</td>\n",
       "      <td>0</td>\n",
       "      <td>0</td>\n",
       "      <td>0</td>\n",
       "      <td>0</td>\n",
       "    </tr>\n",
       "    <tr>\n",
       "      <th>1</th>\n",
       "      <td>139.2</td>\n",
       "      <td>28</td>\n",
       "      <td>0</td>\n",
       "      <td>0</td>\n",
       "      <td>0</td>\n",
       "      <td>0</td>\n",
       "      <td>1</td>\n",
       "      <td>0</td>\n",
       "      <td>0</td>\n",
       "      <td>0</td>\n",
       "      <td>...</td>\n",
       "      <td>0</td>\n",
       "      <td>0</td>\n",
       "      <td>1</td>\n",
       "      <td>0</td>\n",
       "      <td>0</td>\n",
       "      <td>0</td>\n",
       "      <td>0</td>\n",
       "      <td>0</td>\n",
       "      <td>0</td>\n",
       "      <td>0</td>\n",
       "    </tr>\n",
       "    <tr>\n",
       "      <th>2</th>\n",
       "      <td>138.3</td>\n",
       "      <td>27</td>\n",
       "      <td>0</td>\n",
       "      <td>0</td>\n",
       "      <td>0</td>\n",
       "      <td>0</td>\n",
       "      <td>1</td>\n",
       "      <td>0</td>\n",
       "      <td>0</td>\n",
       "      <td>0</td>\n",
       "      <td>...</td>\n",
       "      <td>0</td>\n",
       "      <td>0</td>\n",
       "      <td>0</td>\n",
       "      <td>0</td>\n",
       "      <td>0</td>\n",
       "      <td>1</td>\n",
       "      <td>0</td>\n",
       "      <td>0</td>\n",
       "      <td>0</td>\n",
       "      <td>0</td>\n",
       "    </tr>\n",
       "    <tr>\n",
       "      <th>3</th>\n",
       "      <td>138.3</td>\n",
       "      <td>26</td>\n",
       "      <td>0</td>\n",
       "      <td>0</td>\n",
       "      <td>0</td>\n",
       "      <td>0</td>\n",
       "      <td>1</td>\n",
       "      <td>0</td>\n",
       "      <td>0</td>\n",
       "      <td>0</td>\n",
       "      <td>...</td>\n",
       "      <td>0</td>\n",
       "      <td>0</td>\n",
       "      <td>0</td>\n",
       "      <td>0</td>\n",
       "      <td>0</td>\n",
       "      <td>0</td>\n",
       "      <td>0</td>\n",
       "      <td>1</td>\n",
       "      <td>0</td>\n",
       "      <td>0</td>\n",
       "    </tr>\n",
       "    <tr>\n",
       "      <th>4</th>\n",
       "      <td>138.3</td>\n",
       "      <td>25</td>\n",
       "      <td>0</td>\n",
       "      <td>0</td>\n",
       "      <td>0</td>\n",
       "      <td>0</td>\n",
       "      <td>1</td>\n",
       "      <td>0</td>\n",
       "      <td>0</td>\n",
       "      <td>0</td>\n",
       "      <td>...</td>\n",
       "      <td>1</td>\n",
       "      <td>0</td>\n",
       "      <td>0</td>\n",
       "      <td>0</td>\n",
       "      <td>0</td>\n",
       "      <td>0</td>\n",
       "      <td>0</td>\n",
       "      <td>0</td>\n",
       "      <td>0</td>\n",
       "      <td>0</td>\n",
       "    </tr>\n",
       "  </tbody>\n",
       "</table>\n",
       "<p>5 rows × 32 columns</p>\n",
       "</div>"
      ],
      "text/plain": [
       "   Avg_Ball_Speed  Delivery_Number  left arm chinaman  left arm fast medium  \\\n",
       "0           139.2               29                  0                     0   \n",
       "1           139.2               28                  0                     0   \n",
       "2           138.3               27                  0                     0   \n",
       "3           138.3               26                  0                     0   \n",
       "4           138.3               25                  0                     0   \n",
       "\n",
       "   left arm medium  left arm orthodox  right arm fast  right arm fast medium  \\\n",
       "0                0                  0               1                      0   \n",
       "1                0                  0               1                      0   \n",
       "2                0                  0               1                      0   \n",
       "3                0                  0               1                      0   \n",
       "4                0                  0               1                      0   \n",
       "\n",
       "   right arm leg break  right arm medium   ...     Defensive_shot  Drive  \\\n",
       "0                    0                 0   ...                  1      0   \n",
       "1                    0                 0   ...                  0      0   \n",
       "2                    0                 0   ...                  0      0   \n",
       "3                    0                 0   ...                  0      0   \n",
       "4                    0                 0   ...                  1      0   \n",
       "\n",
       "   Edge  Flick  Glance  Late_Cut  No_shot  Pull_hook  Sweep  Unknown  \n",
       "0     0      0       0         0        0          0      0        0  \n",
       "1     1      0       0         0        0          0      0        0  \n",
       "2     0      0       0         1        0          0      0        0  \n",
       "3     0      0       0         0        0          1      0        0  \n",
       "4     0      0       0         0        0          0      0        0  \n",
       "\n",
       "[5 rows x 32 columns]"
      ]
     },
     "execution_count": 47,
     "metadata": {},
     "output_type": "execute_result"
    }
   ],
   "source": [
    "df_Rohit_X.head()"
   ]
  },
  {
   "cell_type": "code",
   "execution_count": 48,
   "metadata": {
    "collapsed": true
   },
   "outputs": [],
   "source": [
    "from sklearn import tree"
   ]
  },
  {
   "cell_type": "code",
   "execution_count": 49,
   "metadata": {},
   "outputs": [
    {
     "data": {
      "text/plain": [
       "DecisionTreeClassifier(class_weight=None, criterion='gini', max_depth=4,\n",
       "            max_features=None, max_leaf_nodes=None,\n",
       "            min_impurity_split=1e-07, min_samples_leaf=1,\n",
       "            min_samples_split=2, min_weight_fraction_leaf=0.0,\n",
       "            presort=False, random_state=None, splitter='best')"
      ]
     },
     "execution_count": 49,
     "metadata": {},
     "output_type": "execute_result"
    }
   ],
   "source": [
    "tree_model=tree.DecisionTreeClassifier(max_depth=4)\n",
    "tree_model.fit(x_train,y_train)"
   ]
  },
  {
   "cell_type": "code",
   "execution_count": 50,
   "metadata": {
    "collapsed": true
   },
   "outputs": [],
   "source": [
    "dt_shot_pred=tree_model.predict(x_test)"
   ]
  },
  {
   "cell_type": "code",
   "execution_count": 51,
   "metadata": {},
   "outputs": [
    {
     "name": "stdout",
     "output_type": "stream",
     "text": [
      "0.824601366743\n"
     ]
    }
   ],
   "source": [
    "print(accuracy_score(y_test,dt_shot_pred))"
   ]
  },
  {
   "cell_type": "code",
   "execution_count": 52,
   "metadata": {},
   "outputs": [
    {
     "name": "stdout",
     "output_type": "stream",
     "text": [
      "[[283  20]\n",
      " [ 57  79]]\n",
      "             precision    recall  f1-score   support\n",
      "\n",
      "        bad       0.83      0.93      0.88       303\n",
      "       good       0.80      0.58      0.67       136\n",
      "\n",
      "avg / total       0.82      0.82      0.82       439\n",
      "\n"
     ]
    }
   ],
   "source": [
    "print(confusion_matrix(y_test,dt_shot_pred))\n",
    "print(classification_report(y_test,dt_shot_pred))"
   ]
  },
  {
   "cell_type": "markdown",
   "metadata": {},
   "source": [
    "# Model 2"
   ]
  },
  {
   "cell_type": "code",
   "execution_count": 130,
   "metadata": {},
   "outputs": [
    {
     "data": {
      "text/html": [
       "<div>\n",
       "<style>\n",
       "    .dataframe thead tr:only-child th {\n",
       "        text-align: right;\n",
       "    }\n",
       "\n",
       "    .dataframe thead th {\n",
       "        text-align: left;\n",
       "    }\n",
       "\n",
       "    .dataframe tbody tr th {\n",
       "        vertical-align: top;\n",
       "    }\n",
       "</style>\n",
       "<table border=\"1\" class=\"dataframe\">\n",
       "  <thead>\n",
       "    <tr style=\"text-align: right;\">\n",
       "      <th></th>\n",
       "      <th>Avg_Ball_Speed</th>\n",
       "      <th>left arm chinaman</th>\n",
       "      <th>left arm fast medium</th>\n",
       "      <th>left arm medium</th>\n",
       "      <th>left arm orthodox</th>\n",
       "      <th>right arm fast</th>\n",
       "      <th>right arm fast medium</th>\n",
       "      <th>right arm leg break</th>\n",
       "      <th>right arm medium</th>\n",
       "      <th>right arm off break</th>\n",
       "      <th>...</th>\n",
       "      <th>Defensive_shot</th>\n",
       "      <th>Drive</th>\n",
       "      <th>Edge</th>\n",
       "      <th>Flick</th>\n",
       "      <th>Glance</th>\n",
       "      <th>Late_Cut</th>\n",
       "      <th>No_shot</th>\n",
       "      <th>Pull_hook</th>\n",
       "      <th>Sweep</th>\n",
       "      <th>Unknown</th>\n",
       "    </tr>\n",
       "  </thead>\n",
       "  <tbody>\n",
       "    <tr>\n",
       "      <th>0</th>\n",
       "      <td>139.2</td>\n",
       "      <td>0</td>\n",
       "      <td>0</td>\n",
       "      <td>0</td>\n",
       "      <td>0</td>\n",
       "      <td>1</td>\n",
       "      <td>0</td>\n",
       "      <td>0</td>\n",
       "      <td>0</td>\n",
       "      <td>0</td>\n",
       "      <td>...</td>\n",
       "      <td>1</td>\n",
       "      <td>0</td>\n",
       "      <td>0</td>\n",
       "      <td>0</td>\n",
       "      <td>0</td>\n",
       "      <td>0</td>\n",
       "      <td>0</td>\n",
       "      <td>0</td>\n",
       "      <td>0</td>\n",
       "      <td>0</td>\n",
       "    </tr>\n",
       "    <tr>\n",
       "      <th>1</th>\n",
       "      <td>139.2</td>\n",
       "      <td>0</td>\n",
       "      <td>0</td>\n",
       "      <td>0</td>\n",
       "      <td>0</td>\n",
       "      <td>1</td>\n",
       "      <td>0</td>\n",
       "      <td>0</td>\n",
       "      <td>0</td>\n",
       "      <td>0</td>\n",
       "      <td>...</td>\n",
       "      <td>0</td>\n",
       "      <td>0</td>\n",
       "      <td>1</td>\n",
       "      <td>0</td>\n",
       "      <td>0</td>\n",
       "      <td>0</td>\n",
       "      <td>0</td>\n",
       "      <td>0</td>\n",
       "      <td>0</td>\n",
       "      <td>0</td>\n",
       "    </tr>\n",
       "    <tr>\n",
       "      <th>2</th>\n",
       "      <td>138.3</td>\n",
       "      <td>0</td>\n",
       "      <td>0</td>\n",
       "      <td>0</td>\n",
       "      <td>0</td>\n",
       "      <td>1</td>\n",
       "      <td>0</td>\n",
       "      <td>0</td>\n",
       "      <td>0</td>\n",
       "      <td>0</td>\n",
       "      <td>...</td>\n",
       "      <td>0</td>\n",
       "      <td>0</td>\n",
       "      <td>0</td>\n",
       "      <td>0</td>\n",
       "      <td>0</td>\n",
       "      <td>1</td>\n",
       "      <td>0</td>\n",
       "      <td>0</td>\n",
       "      <td>0</td>\n",
       "      <td>0</td>\n",
       "    </tr>\n",
       "    <tr>\n",
       "      <th>3</th>\n",
       "      <td>138.3</td>\n",
       "      <td>0</td>\n",
       "      <td>0</td>\n",
       "      <td>0</td>\n",
       "      <td>0</td>\n",
       "      <td>1</td>\n",
       "      <td>0</td>\n",
       "      <td>0</td>\n",
       "      <td>0</td>\n",
       "      <td>0</td>\n",
       "      <td>...</td>\n",
       "      <td>0</td>\n",
       "      <td>0</td>\n",
       "      <td>0</td>\n",
       "      <td>0</td>\n",
       "      <td>0</td>\n",
       "      <td>0</td>\n",
       "      <td>0</td>\n",
       "      <td>1</td>\n",
       "      <td>0</td>\n",
       "      <td>0</td>\n",
       "    </tr>\n",
       "    <tr>\n",
       "      <th>4</th>\n",
       "      <td>138.3</td>\n",
       "      <td>0</td>\n",
       "      <td>0</td>\n",
       "      <td>0</td>\n",
       "      <td>0</td>\n",
       "      <td>1</td>\n",
       "      <td>0</td>\n",
       "      <td>0</td>\n",
       "      <td>0</td>\n",
       "      <td>0</td>\n",
       "      <td>...</td>\n",
       "      <td>1</td>\n",
       "      <td>0</td>\n",
       "      <td>0</td>\n",
       "      <td>0</td>\n",
       "      <td>0</td>\n",
       "      <td>0</td>\n",
       "      <td>0</td>\n",
       "      <td>0</td>\n",
       "      <td>0</td>\n",
       "      <td>0</td>\n",
       "    </tr>\n",
       "  </tbody>\n",
       "</table>\n",
       "<p>5 rows × 31 columns</p>\n",
       "</div>"
      ],
      "text/plain": [
       "   Avg_Ball_Speed  left arm chinaman  left arm fast medium  left arm medium  \\\n",
       "0           139.2                  0                     0                0   \n",
       "1           139.2                  0                     0                0   \n",
       "2           138.3                  0                     0                0   \n",
       "3           138.3                  0                     0                0   \n",
       "4           138.3                  0                     0                0   \n",
       "\n",
       "   left arm orthodox  right arm fast  right arm fast medium  \\\n",
       "0                  0               1                      0   \n",
       "1                  0               1                      0   \n",
       "2                  0               1                      0   \n",
       "3                  0               1                      0   \n",
       "4                  0               1                      0   \n",
       "\n",
       "   right arm leg break  right arm medium  right arm off break   ...     \\\n",
       "0                    0                 0                    0   ...      \n",
       "1                    0                 0                    0   ...      \n",
       "2                    0                 0                    0   ...      \n",
       "3                    0                 0                    0   ...      \n",
       "4                    0                 0                    0   ...      \n",
       "\n",
       "   Defensive_shot  Drive  Edge  Flick  Glance  Late_Cut  No_shot  Pull_hook  \\\n",
       "0               1      0     0      0       0         0        0          0   \n",
       "1               0      0     1      0       0         0        0          0   \n",
       "2               0      0     0      0       0         1        0          0   \n",
       "3               0      0     0      0       0         0        0          1   \n",
       "4               1      0     0      0       0         0        0          0   \n",
       "\n",
       "   Sweep  Unknown  \n",
       "0      0        0  \n",
       "1      0        0  \n",
       "2      0        0  \n",
       "3      0        0  \n",
       "4      0        0  \n",
       "\n",
       "[5 rows x 31 columns]"
      ]
     },
     "execution_count": 130,
     "metadata": {},
     "output_type": "execute_result"
    }
   ],
   "source": [
    "#cols = ['Bowler_Type','Delivery_Length','Delivery_Line','Home_Away','Shot_Type']\n",
    "\n",
    "df_Rohit_Y = df_Rohit['Good_Bad_Shot']\n",
    "Avg_Ball_Speed=df_Rohit['Avg_Ball_Speed']\n",
    "#Delivery_Number=df_Rohit['Delivery_Number']\n",
    "dummy_bowler_type = pd.get_dummies(df_Rohit['Bowler_Type'])\n",
    "dummy_home_away = pd.get_dummies(df_Rohit['Delivery_Length'])\n",
    "dummy_line = pd.get_dummies(df_Rohit['Delivery_Line'])\n",
    "dummy_length = pd.get_dummies(df_Rohit['Home_Away'])\n",
    "dummy_shotype = pd.get_dummies(df_Rohit['Shot_Type'])\n",
    "#dummy_line\n",
    "df_Rohit_X = pd.concat([Avg_Ball_Speed,dummy_bowler_type,dummy_home_away,dummy_line,dummy_length,dummy_shotype],axis = 1)\n",
    "df_Rohit_X.head()\n"
   ]
  },
  {
   "cell_type": "code",
   "execution_count": 131,
   "metadata": {
    "collapsed": true
   },
   "outputs": [],
   "source": [
    "x_train, x_test, y_train, y_test = train_test_split(df_Rohit_X, df_Rohit_Y, test_size=0.2,stratify=df_Rohit_Y, random_state=42)"
   ]
  },
  {
   "cell_type": "code",
   "execution_count": 132,
   "metadata": {
    "collapsed": true
   },
   "outputs": [],
   "source": [
    "tree_model2=tree.DecisionTreeClassifier(max_depth=4)\n",
    "tree_model2.fit(x_train,y_train)\n",
    "dt_shot_pred=tree_model2.predict(x_test)"
   ]
  },
  {
   "cell_type": "code",
   "execution_count": 133,
   "metadata": {},
   "outputs": [
    {
     "name": "stdout",
     "output_type": "stream",
     "text": [
      "0.824601366743\n"
     ]
    }
   ],
   "source": [
    "print(accuracy_score(y_test,dt_shot_pred))"
   ]
  },
  {
   "cell_type": "code",
   "execution_count": 134,
   "metadata": {},
   "outputs": [
    {
     "name": "stdout",
     "output_type": "stream",
     "text": [
      "[[283  20]\n",
      " [ 57  79]]\n",
      "             precision    recall  f1-score   support\n",
      "\n",
      "        bad       0.83      0.93      0.88       303\n",
      "       good       0.80      0.58      0.67       136\n",
      "\n",
      "avg / total       0.82      0.82      0.82       439\n",
      "\n"
     ]
    }
   ],
   "source": [
    "print(confusion_matrix(y_test,dt_shot_pred))\n",
    "print(classification_report(y_test,dt_shot_pred))"
   ]
  },
  {
   "cell_type": "markdown",
   "metadata": {},
   "source": [
    "# Hyper-parameter Tuning"
   ]
  },
  {
   "cell_type": "code",
   "execution_count": 203,
   "metadata": {
    "collapsed": true
   },
   "outputs": [],
   "source": [
    "from scipy.stats import randint #importing the random int function\n",
    "from  sklearn.model_selection import RandomizedSearchCV #Using radomized search for hyperparmeter search\n",
    "from sklearn.metrics import confusion_matrix,classification_report,accuracy_score "
   ]
  },
  {
   "cell_type": "code",
   "execution_count": 211,
   "metadata": {
    "collapsed": true
   },
   "outputs": [],
   "source": [
    "param_dist = {\"max_depth\": [5, None],\n",
    "              \"max_features\": randint(1, 4),\n",
    "              \"min_samples_leaf\": randint(1, 5),\n",
    "              \"criterion\": [\"gini\", \"entropy\"]}"
   ]
  },
  {
   "cell_type": "code",
   "execution_count": 212,
   "metadata": {
    "collapsed": true
   },
   "outputs": [],
   "source": [
    "Decision_Tree_tunning = RandomizedSearchCV(tree_model2,param_dist,n_iter=10,cv=5) \n",
    "#Cv is cross validation generator\n",
    "#param_dist is choosing distinct parameters"
   ]
  },
  {
   "cell_type": "code",
   "execution_count": 213,
   "metadata": {},
   "outputs": [
    {
     "data": {
      "text/plain": [
       "RandomizedSearchCV(cv=5, error_score='raise',\n",
       "          estimator=DecisionTreeClassifier(class_weight=None, criterion='gini', max_depth=4,\n",
       "            max_features=None, max_leaf_nodes=None,\n",
       "            min_impurity_split=1e-07, min_samples_leaf=1,\n",
       "            min_samples_split=2, min_weight_fraction_leaf=0.0,\n",
       "            presort=False, random_state=None, splitter='best'),\n",
       "          fit_params={}, iid=True, n_iter=10, n_jobs=1,\n",
       "          param_distributions={'max_depth': [5, None], 'max_features': <scipy.stats._distn_infrastructure.rv_frozen object at 0x000001A4191882E8>, 'min_samples_leaf': <scipy.stats._distn_infrastructure.rv_frozen object at 0x000001A419188630>, 'criterion': ['gini', 'entropy']},\n",
       "          pre_dispatch='2*n_jobs', random_state=None, refit=True,\n",
       "          return_train_score=True, scoring=None, verbose=0)"
      ]
     },
     "execution_count": 213,
     "metadata": {},
     "output_type": "execute_result"
    }
   ],
   "source": [
    "Decision_Tree_tunning.fit(x_train,y_train)"
   ]
  },
  {
   "cell_type": "code",
   "execution_count": 214,
   "metadata": {
    "collapsed": true
   },
   "outputs": [],
   "source": [
    "y_pred = Decision_Tree_tunning.predict(x_test) #predicting on testing data"
   ]
  },
  {
   "cell_type": "code",
   "execution_count": 215,
   "metadata": {},
   "outputs": [
    {
     "data": {
      "text/plain": [
       "array([[265,  38],\n",
       "       [ 39,  97]])"
      ]
     },
     "execution_count": 215,
     "metadata": {},
     "output_type": "execute_result"
    }
   ],
   "source": [
    "cm = confusion_matrix(y_test,y_pred)#creating the confusion matrix\n",
    "cm"
   ]
  },
  {
   "cell_type": "code",
   "execution_count": 216,
   "metadata": {},
   "outputs": [
    {
     "name": "stdout",
     "output_type": "stream",
     "text": [
      "             precision    recall  f1-score   support\n",
      "\n",
      "        bad       0.87      0.87      0.87       303\n",
      "       good       0.72      0.71      0.72       136\n",
      "\n",
      "avg / total       0.82      0.82      0.82       439\n",
      "\n"
     ]
    }
   ],
   "source": [
    "print(classification_report(y_test,y_pred)) #Printing the classification report"
   ]
  },
  {
   "cell_type": "code",
   "execution_count": 217,
   "metadata": {},
   "outputs": [
    {
     "data": {
      "text/plain": [
       "0.82460136674259676"
      ]
     },
     "execution_count": 217,
     "metadata": {},
     "output_type": "execute_result"
    }
   ],
   "source": [
    "accuracy_score(y_test,y_pred)  #Checking the accuracy of our model"
   ]
  },
  {
   "cell_type": "code",
   "execution_count": 218,
   "metadata": {},
   "outputs": [
    {
     "name": "stdout",
     "output_type": "stream",
     "text": [
      "Tuned Decision Tree Parameters: {'criterion': 'gini', 'max_depth': None, 'max_features': 3, 'min_samples_leaf': 2}\n"
     ]
    }
   ],
   "source": [
    "print(\"Tuned Decision Tree Parameters: {}\".format(Decision_Tree_tunning.best_params_))\n",
    "#Printing out the parameters of the current search"
   ]
  },
  {
   "cell_type": "markdown",
   "metadata": {},
   "source": [
    "# After running the model 5 times the accuracy falls between 76% to 83%"
   ]
  },
  {
   "cell_type": "markdown",
   "metadata": {},
   "source": [
    "# Model 3- Random Forest"
   ]
  },
  {
   "cell_type": "code",
   "execution_count": 235,
   "metadata": {},
   "outputs": [
    {
     "data": {
      "text/plain": [
       "RandomForestClassifier(bootstrap=True, class_weight=None, criterion='gini',\n",
       "            max_depth=5, max_features='auto', max_leaf_nodes=None,\n",
       "            min_impurity_split=1e-07, min_samples_leaf=1,\n",
       "            min_samples_split=2, min_weight_fraction_leaf=0.0,\n",
       "            n_estimators=10, n_jobs=1, oob_score=False, random_state=None,\n",
       "            verbose=0, warm_start=False)"
      ]
     },
     "execution_count": 235,
     "metadata": {},
     "output_type": "execute_result"
    }
   ],
   "source": [
    "from sklearn.ensemble import RandomForestClassifier\n",
    "rf_model=RandomForestClassifier(criterion='gini',max_depth=5)\n",
    "rf_model.fit(x_train,y_train)"
   ]
  },
  {
   "cell_type": "code",
   "execution_count": 236,
   "metadata": {
    "collapsed": true
   },
   "outputs": [],
   "source": [
    "rf_predd=rf_model.predict(x_test)"
   ]
  },
  {
   "cell_type": "code",
   "execution_count": 237,
   "metadata": {},
   "outputs": [
    {
     "name": "stdout",
     "output_type": "stream",
     "text": [
      "0.824601366743\n"
     ]
    }
   ],
   "source": [
    "print(accuracy_score(y_test,rf_predd))"
   ]
  },
  {
   "cell_type": "code",
   "execution_count": 238,
   "metadata": {},
   "outputs": [
    {
     "name": "stdout",
     "output_type": "stream",
     "text": [
      "[[284  19]\n",
      " [ 58  78]]\n",
      "             precision    recall  f1-score   support\n",
      "\n",
      "        bad       0.83      0.94      0.88       303\n",
      "       good       0.80      0.57      0.67       136\n",
      "\n",
      "avg / total       0.82      0.82      0.82       439\n",
      "\n"
     ]
    }
   ],
   "source": [
    "print(confusion_matrix(y_test,rf_predd))\n",
    "print(classification_report(y_test,rf_predd))"
   ]
  },
  {
   "cell_type": "code",
   "execution_count": null,
   "metadata": {
    "collapsed": true
   },
   "outputs": [],
   "source": []
  }
 ],
 "metadata": {
  "kernelspec": {
   "display_name": "Python 3",
   "language": "python",
   "name": "python3"
  },
  "language_info": {
   "codemirror_mode": {
    "name": "ipython",
    "version": 3
   },
   "file_extension": ".py",
   "mimetype": "text/x-python",
   "name": "python",
   "nbconvert_exporter": "python",
   "pygments_lexer": "ipython3",
   "version": "3.6.3"
  }
 },
 "nbformat": 4,
 "nbformat_minor": 2
}
