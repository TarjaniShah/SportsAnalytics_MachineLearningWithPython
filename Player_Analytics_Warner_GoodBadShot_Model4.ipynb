{
 "cells": [
  {
   "cell_type": "code",
   "execution_count": 7,
   "metadata": {
    "collapsed": true
   },
   "outputs": [],
   "source": [
    "#Importing necessary libraries\n",
    "import pandas as pd\n",
    "import numpy as np"
   ]
  },
  {
   "cell_type": "code",
   "execution_count": 10,
   "metadata": {
    "collapsed": true
   },
   "outputs": [],
   "source": [
    "# Read the csv file and save it as a Pandas DataFrame\n",
    "df_Warner = pd.read_csv(\"D:/knowledge/college docs/DSP/Project_1/New/Warner.csv\")"
   ]
  },
  {
   "cell_type": "code",
   "execution_count": 11,
   "metadata": {},
   "outputs": [
    {
     "data": {
      "text/html": [
       "<div>\n",
       "<style>\n",
       "    .dataframe thead tr:only-child th {\n",
       "        text-align: right;\n",
       "    }\n",
       "\n",
       "    .dataframe thead th {\n",
       "        text-align: left;\n",
       "    }\n",
       "\n",
       "    .dataframe tbody tr th {\n",
       "        vertical-align: top;\n",
       "    }\n",
       "</style>\n",
       "<table border=\"1\" class=\"dataframe\">\n",
       "  <thead>\n",
       "    <tr style=\"text-align: right;\">\n",
       "      <th></th>\n",
       "      <th>Unnamed: 0</th>\n",
       "      <th>Commentary</th>\n",
       "      <th>Runs</th>\n",
       "      <th>Delivery_Length</th>\n",
       "      <th>Delivery_Line</th>\n",
       "      <th>Shot_Type</th>\n",
       "      <th>Run/NoRun</th>\n",
       "      <th>Bowler_Type</th>\n",
       "      <th>Bowler_Name</th>\n",
       "      <th>Avg_Ball_Speed</th>\n",
       "      <th>...</th>\n",
       "      <th>Beaten/NotBeaten</th>\n",
       "      <th>Home_Away</th>\n",
       "      <th>Good_Bad_Shot</th>\n",
       "      <th>Opponent</th>\n",
       "      <th>Stadium</th>\n",
       "      <th>Shot_Zone</th>\n",
       "      <th>Delivery_Number</th>\n",
       "      <th>Toss</th>\n",
       "      <th>TossDecision</th>\n",
       "      <th>D/N</th>\n",
       "    </tr>\n",
       "  </thead>\n",
       "  <tbody>\n",
       "    <tr>\n",
       "      <th>0</th>\n",
       "      <td>0</td>\n",
       "      <td>Amir to Warner, &lt;b&gt;out&lt;/b&gt; Bowled!! Amir has d...</td>\n",
       "      <td>NaN</td>\n",
       "      <td>Full</td>\n",
       "      <td>wicket_to_wicket</td>\n",
       "      <td>Flick</td>\n",
       "      <td>norun</td>\n",
       "      <td>left arm fast medium</td>\n",
       "      <td>Amir</td>\n",
       "      <td>136.4</td>\n",
       "      <td>...</td>\n",
       "      <td>not_beaten</td>\n",
       "      <td>home</td>\n",
       "      <td>bad</td>\n",
       "      <td>Pakistan</td>\n",
       "      <td>The Gabba</td>\n",
       "      <td>Midwicket</td>\n",
       "      <td>19</td>\n",
       "      <td>1</td>\n",
       "      <td>Batting</td>\n",
       "      <td>DN</td>\n",
       "    </tr>\n",
       "    <tr>\n",
       "      <th>1</th>\n",
       "      <td>2</td>\n",
       "      <td>Amir to Warner, 1 run, short of a good length ...</td>\n",
       "      <td>1</td>\n",
       "      <td>Short</td>\n",
       "      <td>outside_stumps</td>\n",
       "      <td>Unknown</td>\n",
       "      <td>run</td>\n",
       "      <td>left arm fast medium</td>\n",
       "      <td>Amir</td>\n",
       "      <td>136.4</td>\n",
       "      <td>...</td>\n",
       "      <td>not_beaten</td>\n",
       "      <td>home</td>\n",
       "      <td>bad</td>\n",
       "      <td>Pakistan</td>\n",
       "      <td>The Gabba</td>\n",
       "      <td>Cover</td>\n",
       "      <td>17</td>\n",
       "      <td>1</td>\n",
       "      <td>Batting</td>\n",
       "      <td>DN</td>\n",
       "    </tr>\n",
       "    <tr>\n",
       "      <th>2</th>\n",
       "      <td>3</td>\n",
       "      <td>Hafeez to Warner, 1 run, flatter and on Warner...</td>\n",
       "      <td>1</td>\n",
       "      <td>GoodLength</td>\n",
       "      <td>wicket_to_wicket</td>\n",
       "      <td>Unknown</td>\n",
       "      <td>run</td>\n",
       "      <td>right arm off break</td>\n",
       "      <td>Hafeez</td>\n",
       "      <td>88.5</td>\n",
       "      <td>...</td>\n",
       "      <td>Unknown</td>\n",
       "      <td>home</td>\n",
       "      <td>bad</td>\n",
       "      <td>Pakistan</td>\n",
       "      <td>The Gabba</td>\n",
       "      <td>Unknown</td>\n",
       "      <td>16</td>\n",
       "      <td>1</td>\n",
       "      <td>Batting</td>\n",
       "      <td>DN</td>\n",
       "    </tr>\n",
       "    <tr>\n",
       "      <th>3</th>\n",
       "      <td>4</td>\n",
       "      <td>Hafeez to Warner, &lt;b&gt;FOUR&lt;/b&gt;, Warner is off a...</td>\n",
       "      <td>4</td>\n",
       "      <td>Unknown</td>\n",
       "      <td>Unknown</td>\n",
       "      <td>Pull_hook</td>\n",
       "      <td>run</td>\n",
       "      <td>right arm off break</td>\n",
       "      <td>Hafeez</td>\n",
       "      <td>88.5</td>\n",
       "      <td>...</td>\n",
       "      <td>not_beaten</td>\n",
       "      <td>home</td>\n",
       "      <td>good</td>\n",
       "      <td>Pakistan</td>\n",
       "      <td>The Gabba</td>\n",
       "      <td>Midwicket</td>\n",
       "      <td>15</td>\n",
       "      <td>1</td>\n",
       "      <td>Batting</td>\n",
       "      <td>DN</td>\n",
       "    </tr>\n",
       "    <tr>\n",
       "      <th>4</th>\n",
       "      <td>5</td>\n",
       "      <td>Amir to Warner, no run, this is even better! A...</td>\n",
       "      <td>0</td>\n",
       "      <td>Full</td>\n",
       "      <td>Unknown</td>\n",
       "      <td>Drive</td>\n",
       "      <td>norun</td>\n",
       "      <td>left arm fast medium</td>\n",
       "      <td>Amir</td>\n",
       "      <td>136.4</td>\n",
       "      <td>...</td>\n",
       "      <td>not_beaten</td>\n",
       "      <td>home</td>\n",
       "      <td>bad</td>\n",
       "      <td>Pakistan</td>\n",
       "      <td>The Gabba</td>\n",
       "      <td>Unknown</td>\n",
       "      <td>14</td>\n",
       "      <td>1</td>\n",
       "      <td>Batting</td>\n",
       "      <td>DN</td>\n",
       "    </tr>\n",
       "  </tbody>\n",
       "</table>\n",
       "<p>5 rows × 22 columns</p>\n",
       "</div>"
      ],
      "text/plain": [
       "   Unnamed: 0                                         Commentary Runs  \\\n",
       "0           0  Amir to Warner, <b>out</b> Bowled!! Amir has d...  NaN   \n",
       "1           2  Amir to Warner, 1 run, short of a good length ...    1   \n",
       "2           3  Hafeez to Warner, 1 run, flatter and on Warner...    1   \n",
       "3           4  Hafeez to Warner, <b>FOUR</b>, Warner is off a...    4   \n",
       "4           5  Amir to Warner, no run, this is even better! A...    0   \n",
       "\n",
       "  Delivery_Length     Delivery_Line  Shot_Type Run/NoRun  \\\n",
       "0            Full  wicket_to_wicket      Flick     norun   \n",
       "1           Short    outside_stumps    Unknown       run   \n",
       "2      GoodLength  wicket_to_wicket    Unknown       run   \n",
       "3         Unknown           Unknown  Pull_hook       run   \n",
       "4            Full           Unknown      Drive     norun   \n",
       "\n",
       "            Bowler_Type Bowler_Name  Avg_Ball_Speed ...   Beaten/NotBeaten  \\\n",
       "0  left arm fast medium        Amir           136.4 ...         not_beaten   \n",
       "1  left arm fast medium        Amir           136.4 ...         not_beaten   \n",
       "2   right arm off break      Hafeez            88.5 ...            Unknown   \n",
       "3   right arm off break      Hafeez            88.5 ...         not_beaten   \n",
       "4  left arm fast medium        Amir           136.4 ...         not_beaten   \n",
       "\n",
       "  Home_Away Good_Bad_Shot  Opponent    Stadium  Shot_Zone Delivery_Number  \\\n",
       "0      home           bad  Pakistan  The Gabba  Midwicket              19   \n",
       "1      home           bad  Pakistan  The Gabba      Cover              17   \n",
       "2      home           bad  Pakistan  The Gabba    Unknown              16   \n",
       "3      home          good  Pakistan  The Gabba  Midwicket              15   \n",
       "4      home           bad  Pakistan  The Gabba    Unknown              14   \n",
       "\n",
       "  Toss  TossDecision  D/N  \n",
       "0    1       Batting   DN  \n",
       "1    1       Batting   DN  \n",
       "2    1       Batting   DN  \n",
       "3    1       Batting   DN  \n",
       "4    1       Batting   DN  \n",
       "\n",
       "[5 rows x 22 columns]"
      ]
     },
     "execution_count": 11,
     "metadata": {},
     "output_type": "execute_result"
    }
   ],
   "source": [
    "df_Warner.head()"
   ]
  },
  {
   "cell_type": "code",
   "execution_count": 12,
   "metadata": {},
   "outputs": [
    {
     "data": {
      "text/plain": [
       "Index(['Runs', 'Dismissal_Type'], dtype='object')"
      ]
     },
     "execution_count": 12,
     "metadata": {},
     "output_type": "execute_result"
    }
   ],
   "source": [
    "null_columns=df_Warner.columns[df_Warner.isnull().any()]\n",
    "null_columns"
   ]
  },
  {
   "cell_type": "code",
   "execution_count": 13,
   "metadata": {},
   "outputs": [
    {
     "data": {
      "text/plain": [
       "Short         766\n",
       "Full          614\n",
       "Unknown       491\n",
       "GoodLength    484\n",
       "FullToss       17\n",
       "Name: Delivery_Length, dtype: int64"
      ]
     },
     "execution_count": 13,
     "metadata": {},
     "output_type": "execute_result"
    }
   ],
   "source": [
    "df_Warner['Delivery_Length'].value_counts()"
   ]
  },
  {
   "cell_type": "code",
   "execution_count": 14,
   "metadata": {},
   "outputs": [
    {
     "data": {
      "text/plain": [
       "outside_stumps      910\n",
       "wicket_to_wicket    902\n",
       "Unknown             560\n",
       "Name: Delivery_Line, dtype: int64"
      ]
     },
     "execution_count": 14,
     "metadata": {},
     "output_type": "execute_result"
    }
   ],
   "source": [
    "df_Warner['Delivery_Line'].value_counts()"
   ]
  },
  {
   "cell_type": "code",
   "execution_count": 15,
   "metadata": {},
   "outputs": [
    {
     "data": {
      "text/plain": [
       "Unknown           767\n",
       "Drive             373\n",
       "Defensive_shot    354\n",
       "Pull_hook         294\n",
       "Sweep             106\n",
       "Cut               104\n",
       "Edge              102\n",
       "No_shot            95\n",
       "Flick              81\n",
       "Late_Cut           79\n",
       "Glance             17\n",
       "Name: Shot_Type, dtype: int64"
      ]
     },
     "execution_count": 15,
     "metadata": {},
     "output_type": "execute_result"
    }
   ],
   "source": [
    "df_Warner['Shot_Type'].value_counts()"
   ]
  },
  {
   "cell_type": "code",
   "execution_count": 16,
   "metadata": {},
   "outputs": [
    {
     "data": {
      "text/plain": [
       "Unknown      882\n",
       "Cover        413\n",
       "Midwicket    220\n",
       "Point        216\n",
       "LongOff      187\n",
       "SquareLeg    150\n",
       "LongOn       133\n",
       "ThirdMan     114\n",
       "FineLeg       57\n",
       "Name: Shot_Zone, dtype: int64"
      ]
     },
     "execution_count": 16,
     "metadata": {},
     "output_type": "execute_result"
    }
   ],
   "source": [
    "df_Warner['Shot_Zone'].value_counts()"
   ]
  },
  {
   "cell_type": "code",
   "execution_count": 17,
   "metadata": {},
   "outputs": [
    {
     "data": {
      "text/plain": [
       "left arm fast medium     484\n",
       "right arm fast medium    443\n",
       "right arm medium         360\n",
       "right arm fast           314\n",
       "right arm off break      291\n",
       "left arm orthodox        279\n",
       "right arm leg break      111\n",
       "right arm offbreak        65\n",
       "left arm chinaman         18\n",
       "left arm medium            7\n",
       "Name: Bowler_Type, dtype: int64"
      ]
     },
     "execution_count": 17,
     "metadata": {},
     "output_type": "execute_result"
    }
   ],
   "source": [
    "df_Warner['Bowler_Type'].value_counts()"
   ]
  },
  {
   "cell_type": "markdown",
   "metadata": {},
   "source": [
    "# Model 1-Decision Tree with multiple parameters"
   ]
  },
  {
   "cell_type": "code",
   "execution_count": 18,
   "metadata": {},
   "outputs": [
    {
     "data": {
      "text/html": [
       "<div>\n",
       "<style>\n",
       "    .dataframe thead tr:only-child th {\n",
       "        text-align: right;\n",
       "    }\n",
       "\n",
       "    .dataframe thead th {\n",
       "        text-align: left;\n",
       "    }\n",
       "\n",
       "    .dataframe tbody tr th {\n",
       "        vertical-align: top;\n",
       "    }\n",
       "</style>\n",
       "<table border=\"1\" class=\"dataframe\">\n",
       "  <thead>\n",
       "    <tr style=\"text-align: right;\">\n",
       "      <th></th>\n",
       "      <th>Avg_Ball_Speed</th>\n",
       "      <th>Delivery_Number</th>\n",
       "      <th>left arm chinaman</th>\n",
       "      <th>left arm fast medium</th>\n",
       "      <th>left arm medium</th>\n",
       "      <th>left arm orthodox</th>\n",
       "      <th>right arm fast</th>\n",
       "      <th>right arm fast medium</th>\n",
       "      <th>right arm leg break</th>\n",
       "      <th>right arm medium</th>\n",
       "      <th>...</th>\n",
       "      <th>Defensive_shot</th>\n",
       "      <th>Drive</th>\n",
       "      <th>Edge</th>\n",
       "      <th>Flick</th>\n",
       "      <th>Glance</th>\n",
       "      <th>Late_Cut</th>\n",
       "      <th>No_shot</th>\n",
       "      <th>Pull_hook</th>\n",
       "      <th>Sweep</th>\n",
       "      <th>Unknown</th>\n",
       "    </tr>\n",
       "  </thead>\n",
       "  <tbody>\n",
       "    <tr>\n",
       "      <th>0</th>\n",
       "      <td>136.4</td>\n",
       "      <td>19</td>\n",
       "      <td>0</td>\n",
       "      <td>1</td>\n",
       "      <td>0</td>\n",
       "      <td>0</td>\n",
       "      <td>0</td>\n",
       "      <td>0</td>\n",
       "      <td>0</td>\n",
       "      <td>0</td>\n",
       "      <td>...</td>\n",
       "      <td>0</td>\n",
       "      <td>0</td>\n",
       "      <td>0</td>\n",
       "      <td>1</td>\n",
       "      <td>0</td>\n",
       "      <td>0</td>\n",
       "      <td>0</td>\n",
       "      <td>0</td>\n",
       "      <td>0</td>\n",
       "      <td>0</td>\n",
       "    </tr>\n",
       "    <tr>\n",
       "      <th>1</th>\n",
       "      <td>136.4</td>\n",
       "      <td>17</td>\n",
       "      <td>0</td>\n",
       "      <td>1</td>\n",
       "      <td>0</td>\n",
       "      <td>0</td>\n",
       "      <td>0</td>\n",
       "      <td>0</td>\n",
       "      <td>0</td>\n",
       "      <td>0</td>\n",
       "      <td>...</td>\n",
       "      <td>0</td>\n",
       "      <td>0</td>\n",
       "      <td>0</td>\n",
       "      <td>0</td>\n",
       "      <td>0</td>\n",
       "      <td>0</td>\n",
       "      <td>0</td>\n",
       "      <td>0</td>\n",
       "      <td>0</td>\n",
       "      <td>1</td>\n",
       "    </tr>\n",
       "    <tr>\n",
       "      <th>2</th>\n",
       "      <td>88.5</td>\n",
       "      <td>16</td>\n",
       "      <td>0</td>\n",
       "      <td>0</td>\n",
       "      <td>0</td>\n",
       "      <td>0</td>\n",
       "      <td>0</td>\n",
       "      <td>0</td>\n",
       "      <td>0</td>\n",
       "      <td>0</td>\n",
       "      <td>...</td>\n",
       "      <td>0</td>\n",
       "      <td>0</td>\n",
       "      <td>0</td>\n",
       "      <td>0</td>\n",
       "      <td>0</td>\n",
       "      <td>0</td>\n",
       "      <td>0</td>\n",
       "      <td>0</td>\n",
       "      <td>0</td>\n",
       "      <td>1</td>\n",
       "    </tr>\n",
       "    <tr>\n",
       "      <th>3</th>\n",
       "      <td>88.5</td>\n",
       "      <td>15</td>\n",
       "      <td>0</td>\n",
       "      <td>0</td>\n",
       "      <td>0</td>\n",
       "      <td>0</td>\n",
       "      <td>0</td>\n",
       "      <td>0</td>\n",
       "      <td>0</td>\n",
       "      <td>0</td>\n",
       "      <td>...</td>\n",
       "      <td>0</td>\n",
       "      <td>0</td>\n",
       "      <td>0</td>\n",
       "      <td>0</td>\n",
       "      <td>0</td>\n",
       "      <td>0</td>\n",
       "      <td>0</td>\n",
       "      <td>1</td>\n",
       "      <td>0</td>\n",
       "      <td>0</td>\n",
       "    </tr>\n",
       "    <tr>\n",
       "      <th>4</th>\n",
       "      <td>136.4</td>\n",
       "      <td>14</td>\n",
       "      <td>0</td>\n",
       "      <td>1</td>\n",
       "      <td>0</td>\n",
       "      <td>0</td>\n",
       "      <td>0</td>\n",
       "      <td>0</td>\n",
       "      <td>0</td>\n",
       "      <td>0</td>\n",
       "      <td>...</td>\n",
       "      <td>0</td>\n",
       "      <td>1</td>\n",
       "      <td>0</td>\n",
       "      <td>0</td>\n",
       "      <td>0</td>\n",
       "      <td>0</td>\n",
       "      <td>0</td>\n",
       "      <td>0</td>\n",
       "      <td>0</td>\n",
       "      <td>0</td>\n",
       "    </tr>\n",
       "  </tbody>\n",
       "</table>\n",
       "<p>5 rows × 33 columns</p>\n",
       "</div>"
      ],
      "text/plain": [
       "   Avg_Ball_Speed  Delivery_Number  left arm chinaman  left arm fast medium  \\\n",
       "0           136.4               19                  0                     1   \n",
       "1           136.4               17                  0                     1   \n",
       "2            88.5               16                  0                     0   \n",
       "3            88.5               15                  0                     0   \n",
       "4           136.4               14                  0                     1   \n",
       "\n",
       "   left arm medium  left arm orthodox  right arm fast  right arm fast medium  \\\n",
       "0                0                  0               0                      0   \n",
       "1                0                  0               0                      0   \n",
       "2                0                  0               0                      0   \n",
       "3                0                  0               0                      0   \n",
       "4                0                  0               0                      0   \n",
       "\n",
       "   right arm leg break  right arm medium   ...     Defensive_shot  Drive  \\\n",
       "0                    0                 0   ...                  0      0   \n",
       "1                    0                 0   ...                  0      0   \n",
       "2                    0                 0   ...                  0      0   \n",
       "3                    0                 0   ...                  0      0   \n",
       "4                    0                 0   ...                  0      1   \n",
       "\n",
       "   Edge  Flick  Glance  Late_Cut  No_shot  Pull_hook  Sweep  Unknown  \n",
       "0     0      1       0         0        0          0      0        0  \n",
       "1     0      0       0         0        0          0      0        1  \n",
       "2     0      0       0         0        0          0      0        1  \n",
       "3     0      0       0         0        0          1      0        0  \n",
       "4     0      0       0         0        0          0      0        0  \n",
       "\n",
       "[5 rows x 33 columns]"
      ]
     },
     "execution_count": 18,
     "metadata": {},
     "output_type": "execute_result"
    }
   ],
   "source": [
    "cols = ['Bowler_Type','Delivery_Length','Delivery_Line','Avg_Ball_Speed','Delivery_Number','Home_Away','Shot_Type']\n",
    "\n",
    "df_Warner_Y = df_Warner['Good_Bad_Shot']\n",
    "Avg_Ball_Speed=df_Warner['Avg_Ball_Speed']\n",
    "Delivery_Number=df_Warner['Delivery_Number']\n",
    "#line_df = rohit['Delivery Line'].to_frame\n",
    "dummy_bowler_type = pd.get_dummies(df_Warner['Bowler_Type'])\n",
    "dummy_home_away = pd.get_dummies(df_Warner['Delivery_Length'])\n",
    "dummy_line = pd.get_dummies(df_Warner['Delivery_Line'])\n",
    "dummy_length = pd.get_dummies(df_Warner['Home_Away'])\n",
    "dummy_shotype = pd.get_dummies(df_Warner['Shot_Type'])\n",
    "#dummy_line\n",
    "df_Warner_X = pd.concat([Avg_Ball_Speed,Delivery_Number,dummy_bowler_type,dummy_home_away,dummy_line,dummy_length,dummy_shotype],axis = 1)\n",
    "df_Warner_X.head()\n"
   ]
  },
  {
   "cell_type": "code",
   "execution_count": 19,
   "metadata": {
    "collapsed": true
   },
   "outputs": [],
   "source": [
    "from sklearn.model_selection import train_test_split\n",
    "from sklearn.neighbors import KNeighborsClassifier\n",
    "from sklearn.metrics import confusion_matrix,classification_report,accuracy_score"
   ]
  },
  {
   "cell_type": "code",
   "execution_count": 21,
   "metadata": {
    "collapsed": true
   },
   "outputs": [],
   "source": [
    "x_train, x_test, y_train, y_test = train_test_split(df_Warner_X, df_Warner_Y, test_size=0.2,stratify=df_Warner_Y, random_state=42)"
   ]
  },
  {
   "cell_type": "code",
   "execution_count": 23,
   "metadata": {},
   "outputs": [
    {
     "data": {
      "text/html": [
       "<div>\n",
       "<style>\n",
       "    .dataframe thead tr:only-child th {\n",
       "        text-align: right;\n",
       "    }\n",
       "\n",
       "    .dataframe thead th {\n",
       "        text-align: left;\n",
       "    }\n",
       "\n",
       "    .dataframe tbody tr th {\n",
       "        vertical-align: top;\n",
       "    }\n",
       "</style>\n",
       "<table border=\"1\" class=\"dataframe\">\n",
       "  <thead>\n",
       "    <tr style=\"text-align: right;\">\n",
       "      <th></th>\n",
       "      <th>Avg_Ball_Speed</th>\n",
       "      <th>Delivery_Number</th>\n",
       "      <th>left arm chinaman</th>\n",
       "      <th>left arm fast medium</th>\n",
       "      <th>left arm medium</th>\n",
       "      <th>left arm orthodox</th>\n",
       "      <th>right arm fast</th>\n",
       "      <th>right arm fast medium</th>\n",
       "      <th>right arm leg break</th>\n",
       "      <th>right arm medium</th>\n",
       "      <th>...</th>\n",
       "      <th>Defensive_shot</th>\n",
       "      <th>Drive</th>\n",
       "      <th>Edge</th>\n",
       "      <th>Flick</th>\n",
       "      <th>Glance</th>\n",
       "      <th>Late_Cut</th>\n",
       "      <th>No_shot</th>\n",
       "      <th>Pull_hook</th>\n",
       "      <th>Sweep</th>\n",
       "      <th>Unknown</th>\n",
       "    </tr>\n",
       "  </thead>\n",
       "  <tbody>\n",
       "    <tr>\n",
       "      <th>0</th>\n",
       "      <td>136.4</td>\n",
       "      <td>19</td>\n",
       "      <td>0</td>\n",
       "      <td>1</td>\n",
       "      <td>0</td>\n",
       "      <td>0</td>\n",
       "      <td>0</td>\n",
       "      <td>0</td>\n",
       "      <td>0</td>\n",
       "      <td>0</td>\n",
       "      <td>...</td>\n",
       "      <td>0</td>\n",
       "      <td>0</td>\n",
       "      <td>0</td>\n",
       "      <td>1</td>\n",
       "      <td>0</td>\n",
       "      <td>0</td>\n",
       "      <td>0</td>\n",
       "      <td>0</td>\n",
       "      <td>0</td>\n",
       "      <td>0</td>\n",
       "    </tr>\n",
       "    <tr>\n",
       "      <th>1</th>\n",
       "      <td>136.4</td>\n",
       "      <td>17</td>\n",
       "      <td>0</td>\n",
       "      <td>1</td>\n",
       "      <td>0</td>\n",
       "      <td>0</td>\n",
       "      <td>0</td>\n",
       "      <td>0</td>\n",
       "      <td>0</td>\n",
       "      <td>0</td>\n",
       "      <td>...</td>\n",
       "      <td>0</td>\n",
       "      <td>0</td>\n",
       "      <td>0</td>\n",
       "      <td>0</td>\n",
       "      <td>0</td>\n",
       "      <td>0</td>\n",
       "      <td>0</td>\n",
       "      <td>0</td>\n",
       "      <td>0</td>\n",
       "      <td>1</td>\n",
       "    </tr>\n",
       "    <tr>\n",
       "      <th>2</th>\n",
       "      <td>88.5</td>\n",
       "      <td>16</td>\n",
       "      <td>0</td>\n",
       "      <td>0</td>\n",
       "      <td>0</td>\n",
       "      <td>0</td>\n",
       "      <td>0</td>\n",
       "      <td>0</td>\n",
       "      <td>0</td>\n",
       "      <td>0</td>\n",
       "      <td>...</td>\n",
       "      <td>0</td>\n",
       "      <td>0</td>\n",
       "      <td>0</td>\n",
       "      <td>0</td>\n",
       "      <td>0</td>\n",
       "      <td>0</td>\n",
       "      <td>0</td>\n",
       "      <td>0</td>\n",
       "      <td>0</td>\n",
       "      <td>1</td>\n",
       "    </tr>\n",
       "    <tr>\n",
       "      <th>3</th>\n",
       "      <td>88.5</td>\n",
       "      <td>15</td>\n",
       "      <td>0</td>\n",
       "      <td>0</td>\n",
       "      <td>0</td>\n",
       "      <td>0</td>\n",
       "      <td>0</td>\n",
       "      <td>0</td>\n",
       "      <td>0</td>\n",
       "      <td>0</td>\n",
       "      <td>...</td>\n",
       "      <td>0</td>\n",
       "      <td>0</td>\n",
       "      <td>0</td>\n",
       "      <td>0</td>\n",
       "      <td>0</td>\n",
       "      <td>0</td>\n",
       "      <td>0</td>\n",
       "      <td>1</td>\n",
       "      <td>0</td>\n",
       "      <td>0</td>\n",
       "    </tr>\n",
       "    <tr>\n",
       "      <th>4</th>\n",
       "      <td>136.4</td>\n",
       "      <td>14</td>\n",
       "      <td>0</td>\n",
       "      <td>1</td>\n",
       "      <td>0</td>\n",
       "      <td>0</td>\n",
       "      <td>0</td>\n",
       "      <td>0</td>\n",
       "      <td>0</td>\n",
       "      <td>0</td>\n",
       "      <td>...</td>\n",
       "      <td>0</td>\n",
       "      <td>1</td>\n",
       "      <td>0</td>\n",
       "      <td>0</td>\n",
       "      <td>0</td>\n",
       "      <td>0</td>\n",
       "      <td>0</td>\n",
       "      <td>0</td>\n",
       "      <td>0</td>\n",
       "      <td>0</td>\n",
       "    </tr>\n",
       "  </tbody>\n",
       "</table>\n",
       "<p>5 rows × 33 columns</p>\n",
       "</div>"
      ],
      "text/plain": [
       "   Avg_Ball_Speed  Delivery_Number  left arm chinaman  left arm fast medium  \\\n",
       "0           136.4               19                  0                     1   \n",
       "1           136.4               17                  0                     1   \n",
       "2            88.5               16                  0                     0   \n",
       "3            88.5               15                  0                     0   \n",
       "4           136.4               14                  0                     1   \n",
       "\n",
       "   left arm medium  left arm orthodox  right arm fast  right arm fast medium  \\\n",
       "0                0                  0               0                      0   \n",
       "1                0                  0               0                      0   \n",
       "2                0                  0               0                      0   \n",
       "3                0                  0               0                      0   \n",
       "4                0                  0               0                      0   \n",
       "\n",
       "   right arm leg break  right arm medium   ...     Defensive_shot  Drive  \\\n",
       "0                    0                 0   ...                  0      0   \n",
       "1                    0                 0   ...                  0      0   \n",
       "2                    0                 0   ...                  0      0   \n",
       "3                    0                 0   ...                  0      0   \n",
       "4                    0                 0   ...                  0      1   \n",
       "\n",
       "   Edge  Flick  Glance  Late_Cut  No_shot  Pull_hook  Sweep  Unknown  \n",
       "0     0      1       0         0        0          0      0        0  \n",
       "1     0      0       0         0        0          0      0        1  \n",
       "2     0      0       0         0        0          0      0        1  \n",
       "3     0      0       0         0        0          1      0        0  \n",
       "4     0      0       0         0        0          0      0        0  \n",
       "\n",
       "[5 rows x 33 columns]"
      ]
     },
     "execution_count": 23,
     "metadata": {},
     "output_type": "execute_result"
    }
   ],
   "source": [
    "df_Warner_X.head()"
   ]
  },
  {
   "cell_type": "code",
   "execution_count": 24,
   "metadata": {
    "collapsed": true
   },
   "outputs": [],
   "source": [
    "from sklearn import tree"
   ]
  },
  {
   "cell_type": "code",
   "execution_count": 25,
   "metadata": {},
   "outputs": [
    {
     "data": {
      "text/plain": [
       "DecisionTreeClassifier(class_weight=None, criterion='gini', max_depth=4,\n",
       "            max_features=None, max_leaf_nodes=None,\n",
       "            min_impurity_split=1e-07, min_samples_leaf=1,\n",
       "            min_samples_split=2, min_weight_fraction_leaf=0.0,\n",
       "            presort=False, random_state=None, splitter='best')"
      ]
     },
     "execution_count": 25,
     "metadata": {},
     "output_type": "execute_result"
    }
   ],
   "source": [
    "tree_model=tree.DecisionTreeClassifier(max_depth=4)\n",
    "tree_model.fit(x_train,y_train)"
   ]
  },
  {
   "cell_type": "code",
   "execution_count": 26,
   "metadata": {
    "collapsed": true
   },
   "outputs": [],
   "source": [
    "dt_shot_pred=tree_model.predict(x_test)"
   ]
  },
  {
   "cell_type": "code",
   "execution_count": 27,
   "metadata": {},
   "outputs": [
    {
     "name": "stdout",
     "output_type": "stream",
     "text": [
      "0.829473684211\n"
     ]
    }
   ],
   "source": [
    "print(accuracy_score(y_test,dt_shot_pred))"
   ]
  },
  {
   "cell_type": "code",
   "execution_count": 28,
   "metadata": {},
   "outputs": [
    {
     "name": "stdout",
     "output_type": "stream",
     "text": [
      "[[257  81]\n",
      " [  0 137]]\n",
      "             precision    recall  f1-score   support\n",
      "\n",
      "        bad       1.00      0.76      0.86       338\n",
      "       good       0.63      1.00      0.77       137\n",
      "\n",
      "avg / total       0.89      0.83      0.84       475\n",
      "\n"
     ]
    }
   ],
   "source": [
    "print(confusion_matrix(y_test,dt_shot_pred))\n",
    "print(classification_report(y_test,dt_shot_pred))"
   ]
  },
  {
   "cell_type": "markdown",
   "metadata": {},
   "source": [
    "# Model 2- Decision Tree with limited parameters"
   ]
  },
  {
   "cell_type": "code",
   "execution_count": 47,
   "metadata": {},
   "outputs": [
    {
     "data": {
      "text/html": [
       "<div>\n",
       "<style>\n",
       "    .dataframe thead tr:only-child th {\n",
       "        text-align: right;\n",
       "    }\n",
       "\n",
       "    .dataframe thead th {\n",
       "        text-align: left;\n",
       "    }\n",
       "\n",
       "    .dataframe tbody tr th {\n",
       "        vertical-align: top;\n",
       "    }\n",
       "</style>\n",
       "<table border=\"1\" class=\"dataframe\">\n",
       "  <thead>\n",
       "    <tr style=\"text-align: right;\">\n",
       "      <th></th>\n",
       "      <th>left arm chinaman</th>\n",
       "      <th>left arm fast medium</th>\n",
       "      <th>left arm medium</th>\n",
       "      <th>left arm orthodox</th>\n",
       "      <th>right arm fast</th>\n",
       "      <th>right arm fast medium</th>\n",
       "      <th>right arm leg break</th>\n",
       "      <th>right arm medium</th>\n",
       "      <th>right arm off break</th>\n",
       "      <th>right arm offbreak</th>\n",
       "      <th>...</th>\n",
       "      <th>Defensive_shot</th>\n",
       "      <th>Drive</th>\n",
       "      <th>Edge</th>\n",
       "      <th>Flick</th>\n",
       "      <th>Glance</th>\n",
       "      <th>Late_Cut</th>\n",
       "      <th>No_shot</th>\n",
       "      <th>Pull_hook</th>\n",
       "      <th>Sweep</th>\n",
       "      <th>Unknown</th>\n",
       "    </tr>\n",
       "  </thead>\n",
       "  <tbody>\n",
       "    <tr>\n",
       "      <th>0</th>\n",
       "      <td>0</td>\n",
       "      <td>1</td>\n",
       "      <td>0</td>\n",
       "      <td>0</td>\n",
       "      <td>0</td>\n",
       "      <td>0</td>\n",
       "      <td>0</td>\n",
       "      <td>0</td>\n",
       "      <td>0</td>\n",
       "      <td>0</td>\n",
       "      <td>...</td>\n",
       "      <td>0</td>\n",
       "      <td>0</td>\n",
       "      <td>0</td>\n",
       "      <td>1</td>\n",
       "      <td>0</td>\n",
       "      <td>0</td>\n",
       "      <td>0</td>\n",
       "      <td>0</td>\n",
       "      <td>0</td>\n",
       "      <td>0</td>\n",
       "    </tr>\n",
       "    <tr>\n",
       "      <th>1</th>\n",
       "      <td>0</td>\n",
       "      <td>1</td>\n",
       "      <td>0</td>\n",
       "      <td>0</td>\n",
       "      <td>0</td>\n",
       "      <td>0</td>\n",
       "      <td>0</td>\n",
       "      <td>0</td>\n",
       "      <td>0</td>\n",
       "      <td>0</td>\n",
       "      <td>...</td>\n",
       "      <td>0</td>\n",
       "      <td>0</td>\n",
       "      <td>0</td>\n",
       "      <td>0</td>\n",
       "      <td>0</td>\n",
       "      <td>0</td>\n",
       "      <td>0</td>\n",
       "      <td>0</td>\n",
       "      <td>0</td>\n",
       "      <td>1</td>\n",
       "    </tr>\n",
       "    <tr>\n",
       "      <th>2</th>\n",
       "      <td>0</td>\n",
       "      <td>0</td>\n",
       "      <td>0</td>\n",
       "      <td>0</td>\n",
       "      <td>0</td>\n",
       "      <td>0</td>\n",
       "      <td>0</td>\n",
       "      <td>0</td>\n",
       "      <td>1</td>\n",
       "      <td>0</td>\n",
       "      <td>...</td>\n",
       "      <td>0</td>\n",
       "      <td>0</td>\n",
       "      <td>0</td>\n",
       "      <td>0</td>\n",
       "      <td>0</td>\n",
       "      <td>0</td>\n",
       "      <td>0</td>\n",
       "      <td>0</td>\n",
       "      <td>0</td>\n",
       "      <td>1</td>\n",
       "    </tr>\n",
       "    <tr>\n",
       "      <th>3</th>\n",
       "      <td>0</td>\n",
       "      <td>0</td>\n",
       "      <td>0</td>\n",
       "      <td>0</td>\n",
       "      <td>0</td>\n",
       "      <td>0</td>\n",
       "      <td>0</td>\n",
       "      <td>0</td>\n",
       "      <td>1</td>\n",
       "      <td>0</td>\n",
       "      <td>...</td>\n",
       "      <td>0</td>\n",
       "      <td>0</td>\n",
       "      <td>0</td>\n",
       "      <td>0</td>\n",
       "      <td>0</td>\n",
       "      <td>0</td>\n",
       "      <td>0</td>\n",
       "      <td>1</td>\n",
       "      <td>0</td>\n",
       "      <td>0</td>\n",
       "    </tr>\n",
       "    <tr>\n",
       "      <th>4</th>\n",
       "      <td>0</td>\n",
       "      <td>1</td>\n",
       "      <td>0</td>\n",
       "      <td>0</td>\n",
       "      <td>0</td>\n",
       "      <td>0</td>\n",
       "      <td>0</td>\n",
       "      <td>0</td>\n",
       "      <td>0</td>\n",
       "      <td>0</td>\n",
       "      <td>...</td>\n",
       "      <td>0</td>\n",
       "      <td>1</td>\n",
       "      <td>0</td>\n",
       "      <td>0</td>\n",
       "      <td>0</td>\n",
       "      <td>0</td>\n",
       "      <td>0</td>\n",
       "      <td>0</td>\n",
       "      <td>0</td>\n",
       "      <td>0</td>\n",
       "    </tr>\n",
       "  </tbody>\n",
       "</table>\n",
       "<p>5 rows × 31 columns</p>\n",
       "</div>"
      ],
      "text/plain": [
       "   left arm chinaman  left arm fast medium  left arm medium  \\\n",
       "0                  0                     1                0   \n",
       "1                  0                     1                0   \n",
       "2                  0                     0                0   \n",
       "3                  0                     0                0   \n",
       "4                  0                     1                0   \n",
       "\n",
       "   left arm orthodox  right arm fast  right arm fast medium  \\\n",
       "0                  0               0                      0   \n",
       "1                  0               0                      0   \n",
       "2                  0               0                      0   \n",
       "3                  0               0                      0   \n",
       "4                  0               0                      0   \n",
       "\n",
       "   right arm leg break  right arm medium  right arm off break  \\\n",
       "0                    0                 0                    0   \n",
       "1                    0                 0                    0   \n",
       "2                    0                 0                    1   \n",
       "3                    0                 0                    1   \n",
       "4                    0                 0                    0   \n",
       "\n",
       "   right arm offbreak   ...     Defensive_shot  Drive  Edge  Flick  Glance  \\\n",
       "0                   0   ...                  0      0     0      1       0   \n",
       "1                   0   ...                  0      0     0      0       0   \n",
       "2                   0   ...                  0      0     0      0       0   \n",
       "3                   0   ...                  0      0     0      0       0   \n",
       "4                   0   ...                  0      1     0      0       0   \n",
       "\n",
       "   Late_Cut  No_shot  Pull_hook  Sweep  Unknown  \n",
       "0         0        0          0      0        0  \n",
       "1         0        0          0      0        1  \n",
       "2         0        0          0      0        1  \n",
       "3         0        0          1      0        0  \n",
       "4         0        0          0      0        0  \n",
       "\n",
       "[5 rows x 31 columns]"
      ]
     },
     "execution_count": 47,
     "metadata": {},
     "output_type": "execute_result"
    }
   ],
   "source": [
    "df_Warner_Y = df_Warner['Good_Bad_Shot']\n",
    "#Avg_Ball_Speed=df_Warner['Avg_Ball_Speed']\n",
    "#Delivery_Number=df_Rohit['Delivery_Number']\n",
    "dummy_bowler_type = pd.get_dummies(df_Warner['Bowler_Type'])\n",
    "dummy_home_away = pd.get_dummies(df_Warner['Delivery_Length'])\n",
    "dummy_line = pd.get_dummies(df_Warner['Delivery_Line'])\n",
    "dummy_length = pd.get_dummies(df_Warner['Home_Away'])\n",
    "dummy_shotype = pd.get_dummies(df_Warner['Shot_Type'])\n",
    "#dummy_line\n",
    "df_Warner_X = pd.concat([dummy_bowler_type,dummy_home_away,dummy_line,dummy_length,dummy_shotype],axis = 1)\n",
    "df_Warner_X.head()\n"
   ]
  },
  {
   "cell_type": "code",
   "execution_count": 48,
   "metadata": {
    "collapsed": true
   },
   "outputs": [],
   "source": [
    "x_train, x_test, y_train, y_test = train_test_split(df_Warner_X, df_Warner_Y, test_size=0.2,stratify=df_Warner_Y, random_state=42)"
   ]
  },
  {
   "cell_type": "code",
   "execution_count": 49,
   "metadata": {
    "collapsed": true
   },
   "outputs": [],
   "source": [
    "tree_model2=tree.DecisionTreeClassifier(max_depth=4)\n",
    "tree_model2.fit(x_train,y_train)\n",
    "dt_shot_pred=tree_model2.predict(x_test)"
   ]
  },
  {
   "cell_type": "code",
   "execution_count": 50,
   "metadata": {},
   "outputs": [
    {
     "name": "stdout",
     "output_type": "stream",
     "text": [
      "0.829473684211\n"
     ]
    }
   ],
   "source": [
    "print(accuracy_score(y_test,dt_shot_pred))"
   ]
  },
  {
   "cell_type": "code",
   "execution_count": 51,
   "metadata": {},
   "outputs": [
    {
     "name": "stdout",
     "output_type": "stream",
     "text": [
      "[[257  81]\n",
      " [  0 137]]\n",
      "             precision    recall  f1-score   support\n",
      "\n",
      "        bad       1.00      0.76      0.86       338\n",
      "       good       0.63      1.00      0.77       137\n",
      "\n",
      "avg / total       0.89      0.83      0.84       475\n",
      "\n"
     ]
    }
   ],
   "source": [
    "print(confusion_matrix(y_test,dt_shot_pred))\n",
    "print(classification_report(y_test,dt_shot_pred))"
   ]
  },
  {
   "cell_type": "markdown",
   "metadata": {},
   "source": [
    "# Hyper-parameter Tuning"
   ]
  },
  {
   "cell_type": "code",
   "execution_count": 52,
   "metadata": {
    "collapsed": true
   },
   "outputs": [],
   "source": [
    "from scipy.stats import randint #importing the random int function\n",
    "from  sklearn.model_selection import RandomizedSearchCV #Using radomized search for hyperparmeter search\n",
    "from sklearn.metrics import confusion_matrix,classification_report,accuracy_score "
   ]
  },
  {
   "cell_type": "code",
   "execution_count": 87,
   "metadata": {
    "collapsed": true
   },
   "outputs": [],
   "source": [
    "param_dist = {\"max_depth\": [5, None],\n",
    "              \"max_features\": randint(1, 4),\n",
    "              \"min_samples_leaf\": randint(1, 9),\n",
    "              \"criterion\": [\"gini\", \"entropy\"]}"
   ]
  },
  {
   "cell_type": "code",
   "execution_count": 88,
   "metadata": {
    "collapsed": true
   },
   "outputs": [],
   "source": [
    "Decision_Tree_tunning = RandomizedSearchCV(tree_model2,param_dist,n_iter=15,cv=8) \n",
    "#Cv is cross validation generator\n",
    "#param_dist is choosing distinct parameters"
   ]
  },
  {
   "cell_type": "code",
   "execution_count": 89,
   "metadata": {},
   "outputs": [
    {
     "data": {
      "text/plain": [
       "RandomizedSearchCV(cv=8, error_score='raise',\n",
       "          estimator=DecisionTreeClassifier(class_weight=None, criterion='gini', max_depth=4,\n",
       "            max_features=None, max_leaf_nodes=None,\n",
       "            min_impurity_split=1e-07, min_samples_leaf=1,\n",
       "            min_samples_split=2, min_weight_fraction_leaf=0.0,\n",
       "            presort=False, random_state=None, splitter='best'),\n",
       "          fit_params={}, iid=True, n_iter=15, n_jobs=1,\n",
       "          param_distributions={'max_depth': [5, None], 'max_features': <scipy.stats._distn_infrastructure.rv_frozen object at 0x00000233F4A6D7B8>, 'min_samples_leaf': <scipy.stats._distn_infrastructure.rv_frozen object at 0x00000233F4A6D978>, 'criterion': ['gini', 'entropy']},\n",
       "          pre_dispatch='2*n_jobs', random_state=None, refit=True,\n",
       "          return_train_score=True, scoring=None, verbose=0)"
      ]
     },
     "execution_count": 89,
     "metadata": {},
     "output_type": "execute_result"
    }
   ],
   "source": [
    "Decision_Tree_tunning.fit(x_train,y_train)"
   ]
  },
  {
   "cell_type": "code",
   "execution_count": 90,
   "metadata": {
    "collapsed": true
   },
   "outputs": [],
   "source": [
    "y_pred = Decision_Tree_tunning.predict(x_test) #predicting on testing data"
   ]
  },
  {
   "cell_type": "code",
   "execution_count": 91,
   "metadata": {},
   "outputs": [
    {
     "data": {
      "text/plain": [
       "array([[276,  62],\n",
       "       [ 29, 108]])"
      ]
     },
     "execution_count": 91,
     "metadata": {},
     "output_type": "execute_result"
    }
   ],
   "source": [
    "cm = confusion_matrix(y_test,y_pred)#creating the confusion matrix\n",
    "cm"
   ]
  },
  {
   "cell_type": "code",
   "execution_count": 92,
   "metadata": {},
   "outputs": [
    {
     "name": "stdout",
     "output_type": "stream",
     "text": [
      "             precision    recall  f1-score   support\n",
      "\n",
      "        bad       0.90      0.82      0.86       338\n",
      "       good       0.64      0.79      0.70       137\n",
      "\n",
      "avg / total       0.83      0.81      0.81       475\n",
      "\n"
     ]
    }
   ],
   "source": [
    "print(classification_report(y_test,y_pred)) #Printing the classification report"
   ]
  },
  {
   "cell_type": "code",
   "execution_count": 93,
   "metadata": {},
   "outputs": [
    {
     "data": {
      "text/plain": [
       "0.80842105263157893"
      ]
     },
     "execution_count": 93,
     "metadata": {},
     "output_type": "execute_result"
    }
   ],
   "source": [
    "accuracy_score(y_test,y_pred)  #Checking the accuracy of our model"
   ]
  },
  {
   "cell_type": "code",
   "execution_count": 72,
   "metadata": {},
   "outputs": [
    {
     "name": "stdout",
     "output_type": "stream",
     "text": [
      "Tuned Decision Tree Parameters: {'criterion': 'entropy', 'max_depth': None, 'max_features': 2, 'min_samples_leaf': 1}\n"
     ]
    }
   ],
   "source": [
    "print(\"Tuned Decision Tree Parameters: {}\".format(Decision_Tree_tunning.best_params_))\n",
    "#Printing out the parameters of the current search"
   ]
  },
  {
   "cell_type": "markdown",
   "metadata": {},
   "source": [
    "# Model 3- Random Forest"
   ]
  },
  {
   "cell_type": "code",
   "execution_count": 61,
   "metadata": {},
   "outputs": [
    {
     "data": {
      "text/plain": [
       "RandomForestClassifier(bootstrap=True, class_weight=None, criterion='gini',\n",
       "            max_depth=5, max_features='auto', max_leaf_nodes=None,\n",
       "            min_impurity_split=1e-07, min_samples_leaf=1,\n",
       "            min_samples_split=2, min_weight_fraction_leaf=0.0,\n",
       "            n_estimators=10, n_jobs=1, oob_score=False, random_state=None,\n",
       "            verbose=0, warm_start=False)"
      ]
     },
     "execution_count": 61,
     "metadata": {},
     "output_type": "execute_result"
    }
   ],
   "source": [
    "from sklearn.ensemble import RandomForestClassifier\n",
    "rf_model=RandomForestClassifier(criterion='gini',max_depth=5)\n",
    "rf_model.fit(x_train,y_train)"
   ]
  },
  {
   "cell_type": "code",
   "execution_count": 62,
   "metadata": {
    "collapsed": true
   },
   "outputs": [],
   "source": [
    "rf_predd=rf_model.predict(x_test)"
   ]
  },
  {
   "cell_type": "code",
   "execution_count": 63,
   "metadata": {},
   "outputs": [
    {
     "name": "stdout",
     "output_type": "stream",
     "text": [
      "0.818947368421\n"
     ]
    }
   ],
   "source": [
    "print(accuracy_score(y_test,rf_predd))"
   ]
  },
  {
   "cell_type": "code",
   "execution_count": 64,
   "metadata": {},
   "outputs": [
    {
     "name": "stdout",
     "output_type": "stream",
     "text": [
      "[[303  35]\n",
      " [ 51  86]]\n",
      "             precision    recall  f1-score   support\n",
      "\n",
      "        bad       0.86      0.90      0.88       338\n",
      "       good       0.71      0.63      0.67       137\n",
      "\n",
      "avg / total       0.81      0.82      0.82       475\n",
      "\n"
     ]
    }
   ],
   "source": [
    "print(confusion_matrix(y_test,rf_predd))\n",
    "print(classification_report(y_test,rf_predd))"
   ]
  },
  {
   "cell_type": "code",
   "execution_count": null,
   "metadata": {
    "collapsed": true
   },
   "outputs": [],
   "source": []
  },
  {
   "cell_type": "code",
   "execution_count": null,
   "metadata": {
    "collapsed": true
   },
   "outputs": [],
   "source": []
  },
  {
   "cell_type": "code",
   "execution_count": null,
   "metadata": {
    "collapsed": true
   },
   "outputs": [],
   "source": []
  }
 ],
 "metadata": {
  "kernelspec": {
   "display_name": "Python 3",
   "language": "python",
   "name": "python3"
  },
  "language_info": {
   "codemirror_mode": {
    "name": "ipython",
    "version": 3
   },
   "file_extension": ".py",
   "mimetype": "text/x-python",
   "name": "python",
   "nbconvert_exporter": "python",
   "pygments_lexer": "ipython3",
   "version": "3.6.3"
  }
 },
 "nbformat": 4,
 "nbformat_minor": 2
}
